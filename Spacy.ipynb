{
  "nbformat": 4,
  "nbformat_minor": 0,
  "metadata": {
    "colab": {
      "provenance": []
    },
    "kernelspec": {
      "name": "python3",
      "display_name": "Python 3"
    },
    "language_info": {
      "name": "python"
    }
  },
  "cells": [
    {
      "cell_type": "code",
      "execution_count": null,
      "metadata": {
        "id": "LEQjUlMQsbIq"
      },
      "outputs": [],
      "source": [
        "# 1. Using Spacy.displacy, display the story with named entities highlighted.\n",
        "\n",
        "\n",
        "txt = \"\"\"Once up a time there were three lions. Daddy lion, Mummy lion and Baby lion. It was soon going to\n",
        "be Baby lion’s birthday he would be one year old.\n",
        "“I want a birthday party.\" Baby lion said. “I will be one year old and I want a purty.\"\n",
        "“Who are you going to invute?\" Mummy lion asked.\n",
        "“All the animals. The hippos and the rhinos, the gazelles.\"\n",
        "“But we eat them.\" Daddy lion explained.\n",
        "“Not on my birthday,\" Baby lion said, “We’re going to eat cake instead.\"\n",
        "“Oh I don’t know about cake.\" Mummy said. “We’re lions, we eat gazelles. And cake rots your teeth.\"\n",
        "“Let him have some cake,\" Daddy lion said. “One slyce won’t do him any harm.\"\n",
        "“And I want streamers and candlus and games and...\"\n",
        "“You let your parents worry about it,\" Mummy lion said.\n",
        "“But not the monkeys\" Baby lion said, “They throw stones at us.\"\n",
        "That night when Baby lion was sleeping, Mummy lion spoke to Daddy lion. “So what are we going to\n",
        "do about the birthday? How are we going to get all the birthday things?\"\n",
        "“We need to get the bus into town.\"\n",
        "“Well we can’t get the bus, we’re lions.\"\n",
        "“The monkeys did.\"\n",
        "“I’ll go and speak to the monkeys.\" Daddy lion said.\n",
        "Daddy lion approched the tree, “Hello monkeys.\"\n",
        "Some stones got thrown at him.\n",
        "“Wait a moment, I want to speak, I’m not going to try and eat you.\"\n",
        "“What is it?\" Daddy monkey asked.\n",
        "“Well you know how you went into town and got some stuff.\"\n",
        "“Tell me about it, she wants to go to the shops every weekend now.\"\n",
        "“Well do you think you could get us some things?\"\n",
        "“Such as?\"\n",
        "“Well it’s our son’s birthday, and he wants a party and we wondered if you would be so kind as to go\n",
        "into town and get us party hats and streamers, a cake and other party things. Oh and a present.\"\n",
        "\n",
        "“What sort of present?\"\n",
        "“A cuddly toy, so he can practis hunting.\"\n",
        "“I don’t know about the cuddly toy, the less killing you lions do the better it is for the rest of us.\"\n",
        "“Well get him something.\"\n",
        "“What’s in it for us?\" Daddy munkey asked.\n",
        "“We promice not to try and eat you for a month.\"\n",
        "“Three months.\"\n",
        "“Two munths.\"\n",
        "“Three months and we promise not to throw stone at you or no deal.\"\n",
        "“Okay three months,\" Daddy lion said relenting.\n",
        "Daddy lion watched from a distance as the three monkeys caught the number 44 bus and went on\n",
        "another shopping trip.\n",
        "“Right we’ve got your things.\" Daddy monkey said as they returned. “If you lions keep your distance,\n",
        "we’ll put them a small distance from the tree. I want all lions to be where I can see them.\"\n",
        "“We promised not to try and eat you.\"\n",
        "“Yes well let’s not put temptation in the way, shall we.\"\n",
        "“Righty-ho.\" Daddy lion replied.\n",
        "The day of the birthday party arrived.\n",
        "The rhinos arrived with their present, a small rock, there’s not many things you can find on the plains\n",
        "of Africa to give as a present.\n",
        "The hippos then arrived and they had brought some grass as a present, then other animals arrived\n",
        "with their presents, which mostly consisted of things they had found lying about like leaves, grass or\n",
        "stones. One thoughtful, nervous gazelle had managed to bring a flower. Baby lion then put it behind\n",
        "his ear.\n",
        "Mummy lion then got the cake out and all the animals roared, squeaked and tried to sing happy\n",
        "birthday.\n",
        "“Where’s the candle?\" Baby lion asked. “I wanted a candle to blow out.\"\n",
        "“Where is the candle?\" Mummy lion asked.\n",
        "“Wait till I see those monkeys,\" Daddy lion said. “They were supposed to get it. I’ll sort them out.\"\n",
        "“Never mind.\" Mummy lion said, “Have some cake and then there’s chicken to follow.\"\n",
        "“What’s chickhen?\"\n",
        "“I don’t know but the monkeys got it when they went into town. It was very cold to begin with but\n",
        "now it is just the right temperature. It smells like ostrich.\"\n",
        "Daddy lion strolled over to the monkey’s tree. “Right monkeys, where’s the candle?\"\n",
        "“What candle?\" Mummy monkey replied.\n",
        "“The candle for the cake.\"\n",
        "“But you never asked for a candle.\"\n",
        "“Well what good is a birthday cake without a candle?\"\n",
        "“I don’t know, we’ve never bothered with birthdays. Why do you have candles?\" “To blow out.\"\n",
        "“How would you light it?\"\n",
        "\n",
        "“What do you mean?\"\n",
        "“Well forgive me my limited knowledge, but lions haven’t discovered fire yet and neither have we\n",
        "monkeys. How would you light the candle?\"\n",
        "“We weren’t going to light it. Baby was going to blow it and he would think he had blown it out.\"\n",
        "“Does he know what a candle is?\"\n",
        "“No\"\n",
        "“Well just use a twig. Stick a twig in the cake and tell him it’s a candle.\" “Right, we may just try that.\"\n",
        "Daddy lion walked back over to the party where Baby lion was tucking into cake and chicken and was\n",
        "opening his present. He seemed to have forgotten about the lack of candles.\n",
        "“What is it?\" Baby lion asked.\n",
        "“It’s a cuddly lion,\" Mummy lion replied. “We asked the monkeys... Oh they are sneaky.\"\n",
        "“Well it’s the best birthday I’ve ever had.\" Baby lion said.\n",
        "“It’s the only birthday you’ve ever had,\" his father replied.\n",
        "“I’ve had chicken, cake, a cuddly lion to play with and been given some nice rocks as well. I may\n",
        "arrange them and the chicken bones to make a nice rockery.\"\n",
        "“You do that son, though you may have to chase the vultures, the wolves and the hyenas away.\n",
        "You know what they’re like with bones.\"\n",
        "“I’ll set my cuddly toy on guard.\"\n",
        "“What are you going to call him?\"\n",
        "'Cuddles of course.'\"\"\""
      ]
    },
    {
      "cell_type": "code",
      "source": [
        "import nltk\n",
        "from nltk.corpus import wordnet"
      ],
      "metadata": {
        "id": "7G7Ngb3psgjo"
      },
      "execution_count": null,
      "outputs": []
    },
    {
      "cell_type": "code",
      "source": [
        "import spacy"
      ],
      "metadata": {
        "id": "Y7rUDuVPsiVL"
      },
      "execution_count": null,
      "outputs": []
    },
    {
      "cell_type": "code",
      "source": [
        "from spacy import displacy\n",
        "\n",
        "NER = spacy.load(\"en_core_web_sm\")"
      ],
      "metadata": {
        "id": "Jn_fBSGasmkE"
      },
      "execution_count": null,
      "outputs": []
    },
    {
      "cell_type": "code",
      "source": [
        "text1= NER(txt)"
      ],
      "metadata": {
        "id": "ALyxErJMsq-B"
      },
      "execution_count": null,
      "outputs": []
    },
    {
      "cell_type": "code",
      "source": [
        "for word in text1.ents:\n",
        "    print(word.text,word.label_)"
      ],
      "metadata": {
        "colab": {
          "base_uri": "https://localhost:8080/"
        },
        "id": "23RY-dWVs_Pp",
        "outputId": "4c0952a2-1b87-4274-e826-8dbc59c44812"
      },
      "execution_count": null,
      "outputs": [
        {
          "output_type": "stream",
          "name": "stdout",
          "text": [
            "three CARDINAL\n",
            "Mummy PERSON\n",
            "one year old DATE\n",
            "one year old DATE\n",
            "Mummy PERSON\n",
            "rhinos NORP\n",
            "Mummy PERSON\n",
            "One CARDINAL\n",
            "Mummy PERSON\n",
            "That night TIME\n",
            "Mummy PERSON\n",
            "every weekend DATE\n",
            "a month DATE\n",
            "Three months DATE\n",
            "Two CARDINAL\n",
            "Three months DATE\n",
            "three months DATE\n",
            "three CARDINAL\n",
            "44 CARDINAL\n",
            "Righty-ho WORK_OF_ART\n",
            "The day DATE\n",
            "rhinos NORP\n",
            "Africa LOC\n",
            "One CARDINAL\n",
            "Mummy PERSON\n",
            "Where’s the candle WORK_OF_ART\n",
            "Mummy PERSON\n",
            "Mummy PERSON\n",
            "Mummy PERSON\n",
            "Mummy PERSON\n"
          ]
        }
      ]
    },
    {
      "cell_type": "code",
      "source": [
        "spacy.explain(\"PERSON\")\n"
      ],
      "metadata": {
        "colab": {
          "base_uri": "https://localhost:8080/",
          "height": 35
        },
        "id": "OshcR6BMtCaQ",
        "outputId": "089f5d0c-58f7-43ad-8e87-9e9df3b8e2e5"
      },
      "execution_count": null,
      "outputs": [
        {
          "output_type": "execute_result",
          "data": {
            "text/plain": [
              "'People, including fictional'"
            ],
            "application/vnd.google.colaboratory.intrinsic+json": {
              "type": "string"
            }
          },
          "metadata": {},
          "execution_count": 8
        }
      ]
    },
    {
      "cell_type": "code",
      "source": [
        "displacy.render(text1,style=\"ent\",jupyter=True)"
      ],
      "metadata": {
        "colab": {
          "base_uri": "https://localhost:8080/",
          "height": 1000
        },
        "id": "nVfwduMDtLnb",
        "outputId": "2040affa-eb8e-425c-ed1b-98a759605e8e"
      },
      "execution_count": null,
      "outputs": [
        {
          "output_type": "display_data",
          "data": {
            "text/plain": [
              "<IPython.core.display.HTML object>"
            ],
            "text/html": [
              "<span class=\"tex2jax_ignore\"><div class=\"entities\" style=\"line-height: 2.5; direction: ltr\">Once up a time there were \n",
              "<mark class=\"entity\" style=\"background: #e4e7d2; padding: 0.45em 0.6em; margin: 0 0.25em; line-height: 1; border-radius: 0.35em;\">\n",
              "    three\n",
              "    <span style=\"font-size: 0.8em; font-weight: bold; line-height: 1; border-radius: 0.35em; vertical-align: middle; margin-left: 0.5rem\">CARDINAL</span>\n",
              "</mark>\n",
              " lions. Daddy lion, \n",
              "<mark class=\"entity\" style=\"background: #aa9cfc; padding: 0.45em 0.6em; margin: 0 0.25em; line-height: 1; border-radius: 0.35em;\">\n",
              "    Mummy\n",
              "    <span style=\"font-size: 0.8em; font-weight: bold; line-height: 1; border-radius: 0.35em; vertical-align: middle; margin-left: 0.5rem\">PERSON</span>\n",
              "</mark>\n",
              " lion and Baby lion. It was soon going to<br>be Baby lion’s birthday he would be \n",
              "<mark class=\"entity\" style=\"background: #bfe1d9; padding: 0.45em 0.6em; margin: 0 0.25em; line-height: 1; border-radius: 0.35em;\">\n",
              "    one year old\n",
              "    <span style=\"font-size: 0.8em; font-weight: bold; line-height: 1; border-radius: 0.35em; vertical-align: middle; margin-left: 0.5rem\">DATE</span>\n",
              "</mark>\n",
              ".<br>“I want a birthday party.&quot; Baby lion said. “I will be \n",
              "<mark class=\"entity\" style=\"background: #bfe1d9; padding: 0.45em 0.6em; margin: 0 0.25em; line-height: 1; border-radius: 0.35em;\">\n",
              "    one year old\n",
              "    <span style=\"font-size: 0.8em; font-weight: bold; line-height: 1; border-radius: 0.35em; vertical-align: middle; margin-left: 0.5rem\">DATE</span>\n",
              "</mark>\n",
              " and I want a purty.&quot;<br>“Who are you going to invute?&quot; \n",
              "<mark class=\"entity\" style=\"background: #aa9cfc; padding: 0.45em 0.6em; margin: 0 0.25em; line-height: 1; border-radius: 0.35em;\">\n",
              "    Mummy\n",
              "    <span style=\"font-size: 0.8em; font-weight: bold; line-height: 1; border-radius: 0.35em; vertical-align: middle; margin-left: 0.5rem\">PERSON</span>\n",
              "</mark>\n",
              " lion asked.<br>“All the animals. The hippos and the \n",
              "<mark class=\"entity\" style=\"background: #c887fb; padding: 0.45em 0.6em; margin: 0 0.25em; line-height: 1; border-radius: 0.35em;\">\n",
              "    rhinos\n",
              "    <span style=\"font-size: 0.8em; font-weight: bold; line-height: 1; border-radius: 0.35em; vertical-align: middle; margin-left: 0.5rem\">NORP</span>\n",
              "</mark>\n",
              ", the gazelles.&quot;<br>“But we eat them.&quot; Daddy lion explained.<br>“Not on my birthday,&quot; Baby lion said, “We’re going to eat cake instead.&quot;<br>“Oh I don’t know about cake.&quot; \n",
              "<mark class=\"entity\" style=\"background: #aa9cfc; padding: 0.45em 0.6em; margin: 0 0.25em; line-height: 1; border-radius: 0.35em;\">\n",
              "    Mummy\n",
              "    <span style=\"font-size: 0.8em; font-weight: bold; line-height: 1; border-radius: 0.35em; vertical-align: middle; margin-left: 0.5rem\">PERSON</span>\n",
              "</mark>\n",
              " said. “We’re lions, we eat gazelles. And cake rots your teeth.&quot;<br>“Let him have some cake,&quot; Daddy lion said. “\n",
              "<mark class=\"entity\" style=\"background: #e4e7d2; padding: 0.45em 0.6em; margin: 0 0.25em; line-height: 1; border-radius: 0.35em;\">\n",
              "    One\n",
              "    <span style=\"font-size: 0.8em; font-weight: bold; line-height: 1; border-radius: 0.35em; vertical-align: middle; margin-left: 0.5rem\">CARDINAL</span>\n",
              "</mark>\n",
              " slyce won’t do him any harm.&quot;<br>“And I want streamers and candlus and games and...&quot;<br>“You let your parents worry about it,&quot; \n",
              "<mark class=\"entity\" style=\"background: #aa9cfc; padding: 0.45em 0.6em; margin: 0 0.25em; line-height: 1; border-radius: 0.35em;\">\n",
              "    Mummy\n",
              "    <span style=\"font-size: 0.8em; font-weight: bold; line-height: 1; border-radius: 0.35em; vertical-align: middle; margin-left: 0.5rem\">PERSON</span>\n",
              "</mark>\n",
              " lion said.<br>“But not the monkeys&quot; Baby lion said, “They throw stones at us.&quot;<br>\n",
              "<mark class=\"entity\" style=\"background: #bfe1d9; padding: 0.45em 0.6em; margin: 0 0.25em; line-height: 1; border-radius: 0.35em;\">\n",
              "    That night\n",
              "    <span style=\"font-size: 0.8em; font-weight: bold; line-height: 1; border-radius: 0.35em; vertical-align: middle; margin-left: 0.5rem\">TIME</span>\n",
              "</mark>\n",
              " when Baby lion was sleeping, \n",
              "<mark class=\"entity\" style=\"background: #aa9cfc; padding: 0.45em 0.6em; margin: 0 0.25em; line-height: 1; border-radius: 0.35em;\">\n",
              "    Mummy\n",
              "    <span style=\"font-size: 0.8em; font-weight: bold; line-height: 1; border-radius: 0.35em; vertical-align: middle; margin-left: 0.5rem\">PERSON</span>\n",
              "</mark>\n",
              " lion spoke to Daddy lion. “So what are we going to<br>do about the birthday? How are we going to get all the birthday things?&quot;<br>“We need to get the bus into town.&quot;<br>“Well we can’t get the bus, we’re lions.&quot;<br>“The monkeys did.&quot;<br>“I’ll go and speak to the monkeys.&quot; Daddy lion said.<br>Daddy lion approched the tree, “Hello monkeys.&quot;<br>Some stones got thrown at him.<br>“Wait a moment, I want to speak, I’m not going to try and eat you.&quot;<br>“What is it?&quot; Daddy monkey asked.<br>“Well you know how you went into town and got some stuff.&quot;<br>“Tell me about it, she wants to go to the shops \n",
              "<mark class=\"entity\" style=\"background: #bfe1d9; padding: 0.45em 0.6em; margin: 0 0.25em; line-height: 1; border-radius: 0.35em;\">\n",
              "    every weekend\n",
              "    <span style=\"font-size: 0.8em; font-weight: bold; line-height: 1; border-radius: 0.35em; vertical-align: middle; margin-left: 0.5rem\">DATE</span>\n",
              "</mark>\n",
              " now.&quot;<br>“Well do you think you could get us some things?&quot;<br>“Such as?&quot;<br>“Well it’s our son’s birthday, and he wants a party and we wondered if you would be so kind as to go<br>into town and get us party hats and streamers, a cake and other party things. Oh and a present.&quot;<br><br>“What sort of present?&quot;<br>“A cuddly toy, so he can practis hunting.&quot;<br>“I don’t know about the cuddly toy, the less killing you lions do the better it is for the rest of us.&quot;<br>“Well get him something.&quot;<br>“What’s in it for us?&quot; Daddy munkey asked.<br>“We promice not to try and eat you for \n",
              "<mark class=\"entity\" style=\"background: #bfe1d9; padding: 0.45em 0.6em; margin: 0 0.25em; line-height: 1; border-radius: 0.35em;\">\n",
              "    a month\n",
              "    <span style=\"font-size: 0.8em; font-weight: bold; line-height: 1; border-radius: 0.35em; vertical-align: middle; margin-left: 0.5rem\">DATE</span>\n",
              "</mark>\n",
              ".&quot;<br>“\n",
              "<mark class=\"entity\" style=\"background: #bfe1d9; padding: 0.45em 0.6em; margin: 0 0.25em; line-height: 1; border-radius: 0.35em;\">\n",
              "    Three months\n",
              "    <span style=\"font-size: 0.8em; font-weight: bold; line-height: 1; border-radius: 0.35em; vertical-align: middle; margin-left: 0.5rem\">DATE</span>\n",
              "</mark>\n",
              ".&quot;<br>“\n",
              "<mark class=\"entity\" style=\"background: #e4e7d2; padding: 0.45em 0.6em; margin: 0 0.25em; line-height: 1; border-radius: 0.35em;\">\n",
              "    Two\n",
              "    <span style=\"font-size: 0.8em; font-weight: bold; line-height: 1; border-radius: 0.35em; vertical-align: middle; margin-left: 0.5rem\">CARDINAL</span>\n",
              "</mark>\n",
              " munths.&quot;<br>“\n",
              "<mark class=\"entity\" style=\"background: #bfe1d9; padding: 0.45em 0.6em; margin: 0 0.25em; line-height: 1; border-radius: 0.35em;\">\n",
              "    Three months\n",
              "    <span style=\"font-size: 0.8em; font-weight: bold; line-height: 1; border-radius: 0.35em; vertical-align: middle; margin-left: 0.5rem\">DATE</span>\n",
              "</mark>\n",
              " and we promise not to throw stone at you or no deal.&quot;<br>“Okay \n",
              "<mark class=\"entity\" style=\"background: #bfe1d9; padding: 0.45em 0.6em; margin: 0 0.25em; line-height: 1; border-radius: 0.35em;\">\n",
              "    three months\n",
              "    <span style=\"font-size: 0.8em; font-weight: bold; line-height: 1; border-radius: 0.35em; vertical-align: middle; margin-left: 0.5rem\">DATE</span>\n",
              "</mark>\n",
              ",&quot; Daddy lion said relenting.<br>Daddy lion watched from a distance as the \n",
              "<mark class=\"entity\" style=\"background: #e4e7d2; padding: 0.45em 0.6em; margin: 0 0.25em; line-height: 1; border-radius: 0.35em;\">\n",
              "    three\n",
              "    <span style=\"font-size: 0.8em; font-weight: bold; line-height: 1; border-radius: 0.35em; vertical-align: middle; margin-left: 0.5rem\">CARDINAL</span>\n",
              "</mark>\n",
              " monkeys caught the number \n",
              "<mark class=\"entity\" style=\"background: #e4e7d2; padding: 0.45em 0.6em; margin: 0 0.25em; line-height: 1; border-radius: 0.35em;\">\n",
              "    44\n",
              "    <span style=\"font-size: 0.8em; font-weight: bold; line-height: 1; border-radius: 0.35em; vertical-align: middle; margin-left: 0.5rem\">CARDINAL</span>\n",
              "</mark>\n",
              " bus and went on<br>another shopping trip.<br>“Right we’ve got your things.&quot; Daddy monkey said as they returned. “If you lions keep your distance,<br>we’ll put them a small distance from the tree. I want all lions to be where I can see them.&quot;<br>“We promised not to try and eat you.&quot;<br>“Yes well let’s not put temptation in the way, shall we.&quot;<br>“\n",
              "<mark class=\"entity\" style=\"background: #f0d0ff; padding: 0.45em 0.6em; margin: 0 0.25em; line-height: 1; border-radius: 0.35em;\">\n",
              "    Righty-ho\n",
              "    <span style=\"font-size: 0.8em; font-weight: bold; line-height: 1; border-radius: 0.35em; vertical-align: middle; margin-left: 0.5rem\">WORK_OF_ART</span>\n",
              "</mark>\n",
              ".&quot; Daddy lion replied.<br>\n",
              "<mark class=\"entity\" style=\"background: #bfe1d9; padding: 0.45em 0.6em; margin: 0 0.25em; line-height: 1; border-radius: 0.35em;\">\n",
              "    The day\n",
              "    <span style=\"font-size: 0.8em; font-weight: bold; line-height: 1; border-radius: 0.35em; vertical-align: middle; margin-left: 0.5rem\">DATE</span>\n",
              "</mark>\n",
              " of the birthday party arrived.<br>The \n",
              "<mark class=\"entity\" style=\"background: #c887fb; padding: 0.45em 0.6em; margin: 0 0.25em; line-height: 1; border-radius: 0.35em;\">\n",
              "    rhinos\n",
              "    <span style=\"font-size: 0.8em; font-weight: bold; line-height: 1; border-radius: 0.35em; vertical-align: middle; margin-left: 0.5rem\">NORP</span>\n",
              "</mark>\n",
              " arrived with their present, a small rock, there’s not many things you can find on the plains<br>of \n",
              "<mark class=\"entity\" style=\"background: #ff9561; padding: 0.45em 0.6em; margin: 0 0.25em; line-height: 1; border-radius: 0.35em;\">\n",
              "    Africa\n",
              "    <span style=\"font-size: 0.8em; font-weight: bold; line-height: 1; border-radius: 0.35em; vertical-align: middle; margin-left: 0.5rem\">LOC</span>\n",
              "</mark>\n",
              " to give as a present.<br>The hippos then arrived and they had brought some grass as a present, then other animals arrived<br>with their presents, which mostly consisted of things they had found lying about like leaves, grass or<br>stones. \n",
              "<mark class=\"entity\" style=\"background: #e4e7d2; padding: 0.45em 0.6em; margin: 0 0.25em; line-height: 1; border-radius: 0.35em;\">\n",
              "    One\n",
              "    <span style=\"font-size: 0.8em; font-weight: bold; line-height: 1; border-radius: 0.35em; vertical-align: middle; margin-left: 0.5rem\">CARDINAL</span>\n",
              "</mark>\n",
              " thoughtful, nervous gazelle had managed to bring a flower. Baby lion then put it behind<br>his ear.<br>\n",
              "<mark class=\"entity\" style=\"background: #aa9cfc; padding: 0.45em 0.6em; margin: 0 0.25em; line-height: 1; border-radius: 0.35em;\">\n",
              "    Mummy\n",
              "    <span style=\"font-size: 0.8em; font-weight: bold; line-height: 1; border-radius: 0.35em; vertical-align: middle; margin-left: 0.5rem\">PERSON</span>\n",
              "</mark>\n",
              " lion then got the cake out and all the animals roared, squeaked and tried to sing happy<br>birthday.<br>“\n",
              "<mark class=\"entity\" style=\"background: #f0d0ff; padding: 0.45em 0.6em; margin: 0 0.25em; line-height: 1; border-radius: 0.35em;\">\n",
              "    Where’s the candle\n",
              "    <span style=\"font-size: 0.8em; font-weight: bold; line-height: 1; border-radius: 0.35em; vertical-align: middle; margin-left: 0.5rem\">WORK_OF_ART</span>\n",
              "</mark>\n",
              "?&quot; Baby lion asked. “I wanted a candle to blow out.&quot;<br>“Where is the candle?&quot; \n",
              "<mark class=\"entity\" style=\"background: #aa9cfc; padding: 0.45em 0.6em; margin: 0 0.25em; line-height: 1; border-radius: 0.35em;\">\n",
              "    Mummy\n",
              "    <span style=\"font-size: 0.8em; font-weight: bold; line-height: 1; border-radius: 0.35em; vertical-align: middle; margin-left: 0.5rem\">PERSON</span>\n",
              "</mark>\n",
              " lion asked.<br>“Wait till I see those monkeys,&quot; Daddy lion said. “They were supposed to get it. I’ll sort them out.&quot;<br>“Never mind.&quot; \n",
              "<mark class=\"entity\" style=\"background: #aa9cfc; padding: 0.45em 0.6em; margin: 0 0.25em; line-height: 1; border-radius: 0.35em;\">\n",
              "    Mummy\n",
              "    <span style=\"font-size: 0.8em; font-weight: bold; line-height: 1; border-radius: 0.35em; vertical-align: middle; margin-left: 0.5rem\">PERSON</span>\n",
              "</mark>\n",
              " lion said, “Have some cake and then there’s chicken to follow.&quot;<br>“What’s chickhen?&quot;<br>“I don’t know but the monkeys got it when they went into town. It was very cold to begin with but<br>now it is just the right temperature. It smells like ostrich.&quot;<br>Daddy lion strolled over to the monkey’s tree. “Right monkeys, where’s the candle?&quot;<br>“What candle?&quot; \n",
              "<mark class=\"entity\" style=\"background: #aa9cfc; padding: 0.45em 0.6em; margin: 0 0.25em; line-height: 1; border-radius: 0.35em;\">\n",
              "    Mummy\n",
              "    <span style=\"font-size: 0.8em; font-weight: bold; line-height: 1; border-radius: 0.35em; vertical-align: middle; margin-left: 0.5rem\">PERSON</span>\n",
              "</mark>\n",
              " monkey replied.<br>“The candle for the cake.&quot;<br>“But you never asked for a candle.&quot;<br>“Well what good is a birthday cake without a candle?&quot;<br>“I don’t know, we’ve never bothered with birthdays. Why do you have candles?&quot; “To blow out.&quot;<br>“How would you light it?&quot;<br><br>“What do you mean?&quot;<br>“Well forgive me my limited knowledge, but lions haven’t discovered fire yet and neither have we<br>monkeys. How would you light the candle?&quot;<br>“We weren’t going to light it. Baby was going to blow it and he would think he had blown it out.&quot;<br>“Does he know what a candle is?&quot;<br>“No&quot;<br>“Well just use a twig. Stick a twig in the cake and tell him it’s a candle.&quot; “Right, we may just try that.&quot;<br>Daddy lion walked back over to the party where Baby lion was tucking into cake and chicken and was<br>opening his present. He seemed to have forgotten about the lack of candles.<br>“What is it?&quot; Baby lion asked.<br>“It’s a cuddly lion,&quot; \n",
              "<mark class=\"entity\" style=\"background: #aa9cfc; padding: 0.45em 0.6em; margin: 0 0.25em; line-height: 1; border-radius: 0.35em;\">\n",
              "    Mummy\n",
              "    <span style=\"font-size: 0.8em; font-weight: bold; line-height: 1; border-radius: 0.35em; vertical-align: middle; margin-left: 0.5rem\">PERSON</span>\n",
              "</mark>\n",
              " lion replied. “We asked the monkeys... Oh they are sneaky.&quot;<br>“Well it’s the best birthday I’ve ever had.&quot; Baby lion said.<br>“It’s the only birthday you’ve ever had,&quot; his father replied.<br>“I’ve had chicken, cake, a cuddly lion to play with and been given some nice rocks as well. I may<br>arrange them and the chicken bones to make a nice rockery.&quot;<br>“You do that son, though you may have to chase the vultures, the wolves and the hyenas away.<br>You know what they’re like with bones.&quot;<br>“I’ll set my cuddly toy on guard.&quot;<br>“What are you going to call him?&quot;<br>'Cuddles of course.'</div></span>"
            ]
          },
          "metadata": {}
        }
      ]
    },
    {
      "cell_type": "code",
      "source": [],
      "metadata": {
        "id": "35TIOLjstQvW"
      },
      "execution_count": null,
      "outputs": []
    }
  ]
}