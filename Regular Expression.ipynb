{
 "cells": [
  {
   "cell_type": "code",
   "execution_count": 1,
   "id": "a22afcd2",
   "metadata": {},
   "outputs": [],
   "source": [
    "#Question_1"
   ]
  },
  {
   "cell_type": "code",
   "execution_count": 2,
   "id": "358d6f43",
   "metadata": {},
   "outputs": [],
   "source": [
    "import re"
   ]
  },
  {
   "cell_type": "code",
   "execution_count": 3,
   "id": "559a6257",
   "metadata": {},
   "outputs": [],
   "source": [
    "animals =['fox', 'lion', 'crow', 'crab', 'wolf']"
   ]
  },
  {
   "cell_type": "code",
   "execution_count": 4,
   "id": "45ab0961",
   "metadata": {},
   "outputs": [],
   "source": [
    "story1_txt = \"\"\"In a forest there lived a lion crow. He had grown old and could not run fast anymore. As days went by it became more and more difficult for him to hunt.\n",
    "\n",
    "One day while he was wandering through the forest in search of food, he came across a cave. He peeped in and smelt the air inside the cave. “Some animal must be staying here,\" he said to himself. He crept inside the cave only to find it empty. “I will hide inside and wait for the animal to return,\" he thought.\n",
    "\n",
    "The cave was the home of a jackal. Everyday, the jackal would go out in search of food and return to the cave in the evening to rest. That evening, the jackal after having his meal started towards home. But as he came closer, he felt something wrong. Everything around him very quiet. “Something is wrong,\" the jackal said to himself. “Why are all the birds and insects so silent?\"\n",
    "\n",
    "Very slowly and cautiously, he walked towards his cave. He looked around him, watching for any signs of danger. As he got closer to the mouth of the cave, all his instincts alerted him of danger. “I have to make sure that everything is alright,\" thought the jackal. Suddenly, he thought of a plan.\n",
    "\n",
    "The clever jackal called out to the cave. “Hello my good cave, what happened to you today? Why are you so quiet?\"\n",
    "\n",
    "The jackal’s voice echoed deep inside the cave. The lion, who by now could control his hunger no longer, thought to himself, “I think it is because I am here that the cave is silent. Before the jackal realises that something is wrong, I should do something.\"\n",
    "\n",
    "The jackal continued to call out, “Have you forgotten our agreement cave? You are supposed to greet me when I return home.\" The lion tried to make his voice sound hollow and called out from within the cave, “Welcome home my friend.\"\n",
    "\n",
    "The birds chirped loudly and flew away on hearing the lion’s roar. As for the jackal, he shook with fear. Before the hungry lion could pounce on him and eat him up, the jackal ran for his dear life as fast as his legs could carry him.\n",
    "\n",
    "The lion waited for a long while for the jackal to enter the cave. But when the jackal did not come in, the lion realised that he had been fooled. He cursed himself for his foolishness that made him lose a prey.\"\"\""
   ]
  },
  {
   "cell_type": "code",
   "execution_count": 5,
   "id": "8a9ca154",
   "metadata": {},
   "outputs": [],
   "source": [
    "story2_txt = \"\"\"The winter had been especially cold. The snow lay thick and heavy on the ground. The squirrels, the badgers and the hedgehogs had vanished into their snug winter homes to sleep away the cold, dark months. The swifts and the swallows had left for warmer countries long ago. Even the slugs and snails had disappeared, hiding away in some dark, warm patch of woodland to wait for the spring. The woods and fields were silent and empty. Only a big, black Crow was hunting for her evening meal.\n",
    "\n",
    "The Crow had flown all day in search of food. But she had found nothing, not even a tiny mouse or a piece of someone’s leftover lunch. Now she was tired and hungry. She cawed sadly.\n",
    "\n",
    "“I will have to go without dinner tonight,’ she thought as she flapped slowly across the sky in one last desperate search for something to eat.\n",
    "\n",
    "She was on the point of turning back when she saw a thin column of smoke coming up into the sky, far away in the distance.\n",
    "\n",
    "“Smoke means fire and fire means cooking and cooking means food!\" thought the Crow. She flew as fast as she could, towards the curling smoke. The smoke came from the chimney of a large farmhouse where the farmer's wife was cooking dinner for her family. A delicious-smelling stew was bubbling in a large pot over the fire and loaves of fresh-baked bread were on the table, ready to be cut into slices. A pat of butter and a chunk of cheese lay in their platters on the window sill. The farmer’s wife had left the window open so the cold air would keep the butter from melting and the cheese from sweating.\n",
    "\n",
    "The Crow saw the cheese by the open window. Quick as a flash, she flew down to the window sill, picked cheese in her big black beak and flew off. The farmer’s wife was stirring the stew, with her back to the window. She did not see the Crow. The Crow was very pleased with herself. 'Nothing like a piece of cheese on a cold winter afternoon!' she thought.\n",
    "\n",
    "She flew towards a clump of tall trees and perched comfortably on a bare branch high above the ground to enjoy her meal in comfort.\n",
    "\n",
    "A wily old Fox lay hidden among the bushes in the farmer’s garden. He had roamed the woods and fields all day in search of food. But he had found nothing to eat, not a bird nor a mouse nor even the scraps from someone’s picnic. Now he was tired and hungry.\n",
    "\n",
    "“I will have to go without dinner tonight.’ he sighed.\n",
    "\n",
    "He was on the point of turning back, when he saw the Crow perch on the bare branch with the piece of cheese in her beak.\n",
    "\n",
    "“What a lovely, smelly piece of cheese!' thought the Fox. I must have that piece of cheese for my dinner. Now, if only I can take that cheese away from the Crow…\"\n",
    "\n",
    "The Fox watched the Crow settle herself comfortably on the branch. He smiled slyly to himself. Strolling up to the foot of the tree, the Fox called out.\n",
    "\n",
    "“Good evening. Mrs. Crow! You look well today!'\n",
    "\n",
    "The Crow looked down at the Fox in surprise. She had never heard him speak so politely before.\n",
    "\n",
    "The Fox continued. 'Oh Mrs. Crow, how beautiful you are! Your feathers are so black! So smooth and shining! Truly. I have never seen such feathers before!'\n",
    "\n",
    "The Crow was even more surprised. No one had ever called her beautiful before! Of course, she had always known how pretty she was. But it was pleasant to be admired by some one else.\n",
    "\n",
    "The Fox looked up at her and sighed. ‘How graceful you are. Mrs. Crow, how elegant! You fly so wonderfully well too and higher than an eagle!'\n",
    "\n",
    "The Crow held herself taller. She had always known how graceful and elegant she was. Of course, she could fly most wonderfully high! How clever of the Fox to know that. She flapped her wings just a little bit so he could admire them again. What a charming creature he was!\n",
    "\n",
    "The Fox took a deep breath and continued. ‘Your claws, ahem, I mean your talons. Mrs. Crow! They are stronger than steel!'\n",
    "\n",
    "Ah… her talons! She had always been proud of her talons. She hopped clumsily on the branch so that the Fox could take another look at her claws. Really, he did say the nicest things!\n",
    "\n",
    "The Crow was by now quite sure that she was the prettiest, most graceful and the strongest bird of all.\n",
    "\n",
    "The Fox smiled secretly to himself. He looked admiringly at the Crow and said. 'Dear Mrs. Crow. I have not heard your voice. It must be the sweetest voice in the world, as beautiful as you are. Dear Mrs. Crow, won't you sing for me?'\n",
    "\n",
    "The Crow was flattered. All the other birds had told her that she had an awful voice. And here was the Fox begging her to sing for him! Of course, she had always known what a lovely voice she had...\n",
    "\n",
    "The Crow took a deep breath and opened her beak in a loud and raucous Caw!' Down dropped the piece of cheese! The Fox snapped it up as it fell and swallowed it before the Crow realised what had happened.\n",
    "\n",
    "The Fox walked off chuckling. ’Next time, Mrs. Crow, be careful what you believe!' he cried as he vanished through the trees.\n",
    "\n",
    "The Crow was left feeling foolish. How could she have been so vain and so silly, as to be taken in by the Fox's clever words and to lose her lovely dinner!\n",
    "\n",
    "The Crow ruffled her feathers sadly and got ready for a hungry night.\"\"\""
   ]
  },
  {
   "cell_type": "code",
   "execution_count": 6,
   "id": "9ddae89f",
   "metadata": {},
   "outputs": [
    {
     "name": "stdout",
     "output_type": "stream",
     "text": [
      "In a forest there lived a lion crow\n",
      "He had grown old and could not run fast anymore\n",
      "As days went by it became more and more difficult for him to hunt\n",
      "One day while he was wandering through the forest in search of food\n",
      "he came across a cave\n",
      "He peeped in and smelt the air inside the cave\n",
      "\n",
      "Some animal must be staying here\n",
      "he said to himself\n",
      "He crept inside the cave only to find it empty\n",
      "\n",
      "I will hide inside and wait for the animal to return\n",
      "he thought\n",
      "The cave was the home of a jackal\n",
      "Everyday\n",
      "the jackal would go out in search of food and return to the cave in the evening to rest\n",
      "That evening\n",
      "the jackal after having his meal started towards home\n",
      "But as he came closer\n",
      "he felt something wrong\n",
      "Everything around him very quiet\n",
      "\n",
      "Something is wrong\n",
      "the jackal said to himself\n",
      "\n",
      "Why are all the birds and insects so silent\n",
      "Very slowly and cautiously\n",
      "he walked towards his cave\n",
      "He looked around him\n",
      "watching for any signs of danger\n",
      "As he got closer to the mouth of the cave\n",
      "all his instincts alerted him of danger\n",
      "\n",
      "I have to make sure that everything is alright\n",
      "thought the jackal\n",
      "Suddenly\n",
      "he thought of a plan\n",
      "The clever jackal called out to the cave\n",
      "\n",
      "Hello my good cave\n",
      "what happened to you today\n",
      "Why are you so quiet\n",
      "The jackal\n",
      "s voice echoed deep inside the cave\n",
      "The lion\n",
      "who by now could control his hunger no longer\n",
      "thought to himself\n",
      "\n",
      "I think it is because I am here that the cave is silent\n",
      "Before the jackal realises that something is wrong\n",
      "I should do something\n",
      "The jackal continued to call out\n",
      "\n",
      "Have you forgotten our agreement cave\n",
      "You are supposed to greet me when I return home\n",
      "The lion tried to make his voice sound hollow and called out from within the cave\n",
      "\n",
      "Welcome home my friend\n",
      "The birds chirped loudly and flew away on hearing the lion\n",
      "s roar\n",
      "As for the jackal\n",
      "he shook with fear\n",
      "Before the hungry lion could pounce on him and eat him up\n",
      "the jackal ran for his dear life as fast as his legs could carry him\n",
      "The lion waited for a long while for the jackal to enter the cave\n",
      "But when the jackal did not come in\n",
      "the lion realised that he had been fooled\n",
      "He cursed himself for his foolishness that made him lose a prey\n",
      "\n"
     ]
    }
   ],
   "source": [
    "separate1_txt = re.split(r' *[\\.\\?!\"“,’][\\'\"\\n)\\]]* *',story1_txt ) #separating the story.\n",
    "\n",
    "for i in separate1_txt:\n",
    "        print(i) "
   ]
  },
  {
   "cell_type": "code",
   "execution_count": 7,
   "id": "3fe31289",
   "metadata": {},
   "outputs": [],
   "source": [
    "#Normalize\n",
    "\n",
    "norm1 = str(separate1_txt)"
   ]
  },
  {
   "cell_type": "code",
   "execution_count": 8,
   "id": "c073f724",
   "metadata": {},
   "outputs": [
    {
     "data": {
      "text/plain": [
       "\"['in a forest there lived a lion crow', 'he had grown old and could not run fast anymore', 'as days went by it became more and more difficult for him to hunt', 'one day while he was wandering through the forest in search of food', 'he came across a cave', 'he peeped in and smelt the air inside the cave', '', 'some animal must be staying here', 'he said to himself', 'he crept inside the cave only to find it empty', '', 'i will hide inside and wait for the animal to return', 'he thought', 'the cave was the home of a jackal', 'everyday', 'the jackal would go out in search of food and return to the cave in the evening to rest', 'that evening', 'the jackal after having his meal started towards home', 'but as he came closer', 'he felt something wrong', 'everything around him very quiet', '', 'something is wrong', 'the jackal said to himself', '', 'why are all the birds and insects so silent', 'very slowly and cautiously', 'he walked towards his cave', 'he looked around him', 'watching for any signs of danger', 'as he got closer to the mouth of the cave', 'all his instincts alerted him of danger', '', 'i have to make sure that everything is alright', 'thought the jackal', 'suddenly', 'he thought of a plan', 'the clever jackal called out to the cave', '', 'hello my good cave', 'what happened to you today', 'why are you so quiet', 'the jackal', 's voice echoed deep inside the cave', 'the lion', 'who by now could control his hunger no longer', 'thought to himself', '', 'i think it is because i am here that the cave is silent', 'before the jackal realises that something is wrong', 'i should do something', 'the jackal continued to call out', '', 'have you forgotten our agreement cave', 'you are supposed to greet me when i return home', 'the lion tried to make his voice sound hollow and called out from within the cave', '', 'welcome home my friend', 'the birds chirped loudly and flew away on hearing the lion', 's roar', 'as for the jackal', 'he shook with fear', 'before the hungry lion could pounce on him and eat him up', 'the jackal ran for his dear life as fast as his legs could carry him', 'the lion waited for a long while for the jackal to enter the cave', 'but when the jackal did not come in', 'the lion realised that he had been fooled', 'he cursed himself for his foolishness that made him lose a prey', '']\""
      ]
     },
     "execution_count": 8,
     "metadata": {},
     "output_type": "execute_result"
    }
   ],
   "source": [
    "norm_data = norm1.lower()\n",
    "norm_data"
   ]
  },
  {
   "cell_type": "code",
   "execution_count": 9,
   "id": "bd9aabfc",
   "metadata": {},
   "outputs": [
    {
     "name": "stdout",
     "output_type": "stream",
     "text": [
      "The winter had been especially cold\n",
      "The snow lay thick and heavy on the ground\n",
      "The squirrels\n",
      "the badgers and the hedgehogs had vanished into their snug winter homes to sleep away the cold\n",
      "dark months\n",
      "The swifts and the swallows had left for warmer countries long ago\n",
      "Even the slugs and snails had disappeared\n",
      "hiding away in some dark\n",
      "warm patch of woodland to wait for the spring\n",
      "The woods and fields were silent and empty\n",
      "Only a big\n",
      "black Crow was hunting for her evening meal\n",
      "The Crow had flown all day in search of food\n",
      "But she had found nothing\n",
      "not even a tiny mouse or a piece of someone\n",
      "s leftover lunch\n",
      "Now she was tired and hungry\n",
      "She cawed sadly\n",
      "\n",
      "I will have to go without dinner tonight\n",
      "\n",
      "she thought as she flapped slowly across the sky in one last desperate search for something to eat\n",
      "She was on the point of turning back when she saw a thin column of smoke coming up into the sky\n",
      "far away in the distance\n",
      "\n",
      "Smoke means fire and fire means cooking and cooking means food\n",
      "thought the Crow\n",
      "She flew as fast as she could\n",
      "towards the curling smoke\n",
      "The smoke came from the chimney of a large farmhouse where the farmer's wife was cooking dinner for her family\n",
      "A delicious-smelling stew was bubbling in a large pot over the fire and loaves of fresh-baked bread were on the table\n",
      "ready to be cut into slices\n",
      "A pat of butter and a chunk of cheese lay in their platters on the window sill\n",
      "The farmer\n",
      "s wife had left the window open so the cold air would keep the butter from melting and the cheese from sweating\n",
      "The Crow saw the cheese by the open window\n",
      "Quick as a flash\n",
      "she flew down to the window sill\n",
      "picked cheese in her big black beak and flew off\n",
      "The farmer\n",
      "s wife was stirring the stew\n",
      "with her back to the window\n",
      "She did not see the Crow\n",
      "The Crow was very pleased with herself\n",
      "'Nothing like a piece of cheese on a cold winter afternoon\n",
      "she thought\n",
      "She flew towards a clump of tall trees and perched comfortably on a bare branch high above the ground to enjoy her meal in comfort\n",
      "A wily old Fox lay hidden among the bushes in the farmer\n",
      "s garden\n",
      "He had roamed the woods and fields all day in search of food\n",
      "But he had found nothing to eat\n",
      "not a bird nor a mouse nor even the scraps from someone\n",
      "s picnic\n",
      "Now he was tired and hungry\n",
      "\n",
      "I will have to go without dinner tonight\n",
      "\n",
      "he sighed\n",
      "He was on the point of turning back\n",
      "when he saw the Crow perch on the bare branch with the piece of cheese in her beak\n",
      "\n",
      "What a lovely\n",
      "smelly piece of cheese\n",
      "thought the Fox\n",
      "I must have that piece of cheese for my dinner\n",
      "Now\n",
      "if only I can take that cheese away from the Crow…\n",
      "The Fox watched the Crow settle herself comfortably on the branch\n",
      "He smiled slyly to himself\n",
      "Strolling up to the foot of the tree\n",
      "the Fox called out\n",
      "\n",
      "Good evening\n",
      "Mrs\n",
      "Crow\n",
      "You look well today\n",
      "The Crow looked down at the Fox in surprise\n",
      "She had never heard him speak so politely before\n",
      "The Fox continued\n",
      "'Oh Mrs\n",
      "Crow\n",
      "how beautiful you are\n",
      "Your feathers are so black\n",
      "So smooth and shining\n",
      "Truly\n",
      "I have never seen such feathers before\n",
      "The Crow was even more surprised\n",
      "No one had ever called her beautiful before\n",
      "Of course\n",
      "she had always known how pretty she was\n",
      "But it was pleasant to be admired by some one else\n",
      "The Fox looked up at her and sighed\n",
      "‘How graceful you are\n",
      "Mrs\n",
      "Crow\n",
      "how elegant\n",
      "You fly so wonderfully well too and higher than an eagle\n",
      "The Crow held herself taller\n",
      "She had always known how graceful and elegant she was\n",
      "Of course\n",
      "she could fly most wonderfully high\n",
      "How clever of the Fox to know that\n",
      "She flapped her wings just a little bit so he could admire them again\n",
      "What a charming creature he was\n",
      "The Fox took a deep breath and continued\n",
      "‘Your claws\n",
      "ahem\n",
      "I mean your talons\n",
      "Mrs\n",
      "Crow\n",
      "They are stronger than steel\n",
      "Ah… her talons\n",
      "She had always been proud of her talons\n",
      "She hopped clumsily on the branch so that the Fox could take another look at her claws\n",
      "Really\n",
      "he did say the nicest things\n",
      "The Crow was by now quite sure that she was the prettiest\n",
      "most graceful and the strongest bird of all\n",
      "The Fox smiled secretly to himself\n",
      "He looked admiringly at the Crow and said\n",
      "'Dear Mrs\n",
      "Crow\n",
      "I have not heard your voice\n",
      "It must be the sweetest voice in the world\n",
      "as beautiful as you are\n",
      "Dear Mrs\n",
      "Crow\n",
      "won't you sing for me\n",
      "The Crow was flattered\n",
      "All the other birds had told her that she had an awful voice\n",
      "And here was the Fox begging her to sing for him\n",
      "Of course\n",
      "she had always known what a lovely voice she had\n",
      "\n",
      "\n",
      "The Crow took a deep breath and opened her beak in a loud and raucous Caw\n",
      "Down dropped the piece of cheese\n",
      "The Fox snapped it up as it fell and swallowed it before the Crow realised what had happened\n",
      "The Fox walked off chuckling\n",
      "\n",
      "Next time\n",
      "Mrs\n",
      "Crow\n",
      "be careful what you believe\n",
      "he cried as he vanished through the trees\n",
      "The Crow was left feeling foolish\n",
      "How could she have been so vain and so silly\n",
      "as to be taken in by the Fox's clever words and to lose her lovely dinner\n",
      "The Crow ruffled her feathers sadly and got ready for a hungry night\n",
      "\n"
     ]
    }
   ],
   "source": [
    "separate2_txt = re.split(r' *[\\.\\?!\"“,’][\\'\"\\n)\\]]* *',story2_txt ) #separating the story.\n",
    "\n",
    "for i in separate2_txt:\n",
    "        print(i) "
   ]
  },
  {
   "cell_type": "code",
   "execution_count": 10,
   "id": "081a66c9",
   "metadata": {},
   "outputs": [],
   "source": [
    "norm2 = str(separate2_txt)"
   ]
  },
  {
   "cell_type": "code",
   "execution_count": 11,
   "id": "acaf68e0",
   "metadata": {},
   "outputs": [
    {
     "data": {
      "text/plain": [
       "'[\\'the winter had been especially cold\\', \\'the snow lay thick and heavy on the ground\\', \\'the squirrels\\', \\'the badgers and the hedgehogs had vanished into their snug winter homes to sleep away the cold\\', \\'dark months\\', \\'the swifts and the swallows had left for warmer countries long ago\\', \\'even the slugs and snails had disappeared\\', \\'hiding away in some dark\\', \\'warm patch of woodland to wait for the spring\\', \\'the woods and fields were silent and empty\\', \\'only a big\\', \\'black crow was hunting for her evening meal\\', \\'the crow had flown all day in search of food\\', \\'but she had found nothing\\', \\'not even a tiny mouse or a piece of someone\\', \\'s leftover lunch\\', \\'now she was tired and hungry\\', \\'she cawed sadly\\', \\'\\', \\'i will have to go without dinner tonight\\', \\'\\', \\'she thought as she flapped slowly across the sky in one last desperate search for something to eat\\', \\'she was on the point of turning back when she saw a thin column of smoke coming up into the sky\\', \\'far away in the distance\\', \\'\\', \\'smoke means fire and fire means cooking and cooking means food\\', \\'thought the crow\\', \\'she flew as fast as she could\\', \\'towards the curling smoke\\', \"the smoke came from the chimney of a large farmhouse where the farmer\\'s wife was cooking dinner for her family\", \\'a delicious-smelling stew was bubbling in a large pot over the fire and loaves of fresh-baked bread were on the table\\', \\'ready to be cut into slices\\', \\'a pat of butter and a chunk of cheese lay in their platters on the window sill\\', \\'the farmer\\', \\'s wife had left the window open so the cold air would keep the butter from melting and the cheese from sweating\\', \\'the crow saw the cheese by the open window\\', \\'quick as a flash\\', \\'she flew down to the window sill\\', \\'picked cheese in her big black beak and flew off\\', \\'the farmer\\', \\'s wife was stirring the stew\\', \\'with her back to the window\\', \\'she did not see the crow\\', \\'the crow was very pleased with herself\\', \"\\'nothing like a piece of cheese on a cold winter afternoon\", \\'she thought\\', \\'she flew towards a clump of tall trees and perched comfortably on a bare branch high above the ground to enjoy her meal in comfort\\', \\'a wily old fox lay hidden among the bushes in the farmer\\', \\'s garden\\', \\'he had roamed the woods and fields all day in search of food\\', \\'but he had found nothing to eat\\', \\'not a bird nor a mouse nor even the scraps from someone\\', \\'s picnic\\', \\'now he was tired and hungry\\', \\'\\', \\'i will have to go without dinner tonight\\', \\'\\', \\'he sighed\\', \\'he was on the point of turning back\\', \\'when he saw the crow perch on the bare branch with the piece of cheese in her beak\\', \\'\\', \\'what a lovely\\', \\'smelly piece of cheese\\', \\'thought the fox\\', \\'i must have that piece of cheese for my dinner\\', \\'now\\', \\'if only i can take that cheese away from the crow…\\', \\'the fox watched the crow settle herself comfortably on the branch\\', \\'he smiled slyly to himself\\', \\'strolling up to the foot of the tree\\', \\'the fox called out\\', \\'\\', \\'good evening\\', \\'mrs\\', \\'crow\\', \\'you look well today\\', \\'the crow looked down at the fox in surprise\\', \\'she had never heard him speak so politely before\\', \\'the fox continued\\', \"\\'oh mrs\", \\'crow\\', \\'how beautiful you are\\', \\'your feathers are so black\\', \\'so smooth and shining\\', \\'truly\\', \\'i have never seen such feathers before\\', \\'the crow was even more surprised\\', \\'no one had ever called her beautiful before\\', \\'of course\\', \\'she had always known how pretty she was\\', \\'but it was pleasant to be admired by some one else\\', \\'the fox looked up at her and sighed\\', \\'‘how graceful you are\\', \\'mrs\\', \\'crow\\', \\'how elegant\\', \\'you fly so wonderfully well too and higher than an eagle\\', \\'the crow held herself taller\\', \\'she had always known how graceful and elegant she was\\', \\'of course\\', \\'she could fly most wonderfully high\\', \\'how clever of the fox to know that\\', \\'she flapped her wings just a little bit so he could admire them again\\', \\'what a charming creature he was\\', \\'the fox took a deep breath and continued\\', \\'‘your claws\\', \\'ahem\\', \\'i mean your talons\\', \\'mrs\\', \\'crow\\', \\'they are stronger than steel\\', \\'ah… her talons\\', \\'she had always been proud of her talons\\', \\'she hopped clumsily on the branch so that the fox could take another look at her claws\\', \\'really\\', \\'he did say the nicest things\\', \\'the crow was by now quite sure that she was the prettiest\\', \\'most graceful and the strongest bird of all\\', \\'the fox smiled secretly to himself\\', \\'he looked admiringly at the crow and said\\', \"\\'dear mrs\", \\'crow\\', \\'i have not heard your voice\\', \\'it must be the sweetest voice in the world\\', \\'as beautiful as you are\\', \\'dear mrs\\', \\'crow\\', \"won\\'t you sing for me\", \\'the crow was flattered\\', \\'all the other birds had told her that she had an awful voice\\', \\'and here was the fox begging her to sing for him\\', \\'of course\\', \\'she had always known what a lovely voice she had\\', \\'\\', \\'\\', \\'the crow took a deep breath and opened her beak in a loud and raucous caw\\', \\'down dropped the piece of cheese\\', \\'the fox snapped it up as it fell and swallowed it before the crow realised what had happened\\', \\'the fox walked off chuckling\\', \\'\\', \\'next time\\', \\'mrs\\', \\'crow\\', \\'be careful what you believe\\', \\'he cried as he vanished through the trees\\', \\'the crow was left feeling foolish\\', \\'how could she have been so vain and so silly\\', \"as to be taken in by the fox\\'s clever words and to lose her lovely dinner\", \\'the crow ruffled her feathers sadly and got ready for a hungry night\\', \\'\\']'"
      ]
     },
     "execution_count": 11,
     "metadata": {},
     "output_type": "execute_result"
    }
   ],
   "source": [
    "norm_data2 = norm2.lower()\n",
    "norm_data2"
   ]
  },
  {
   "cell_type": "code",
   "execution_count": 12,
   "id": "51b9da46",
   "metadata": {},
   "outputs": [],
   "source": [
    "import string"
   ]
  },
  {
   "cell_type": "code",
   "execution_count": 13,
   "id": "bf547a22",
   "metadata": {},
   "outputs": [
    {
     "name": "stdout",
     "output_type": "stream",
     "text": [
      "in a forest there lived a lion crow he had grown old and could not run fast anymore as days went by it became more and more difficult for him to hunt one day while he was wandering through the forest in search of food he came across a cave he peeped in and smelt the air inside the cave  some animal must be staying here he said to himself he crept inside the cave only to find it empty  i will hide inside and wait for the animal to return he thought the cave was the home of a jackal everyday the jackal would go out in search of food and return to the cave in the evening to rest that evening the jackal after having his meal started towards home but as he came closer he felt something wrong everything around him very quiet  something is wrong the jackal said to himself  why are all the birds and insects so silent very slowly and cautiously he walked towards his cave he looked around him watching for any signs of danger as he got closer to the mouth of the cave all his instincts alerted him of danger  i have to make sure that everything is alright thought the jackal suddenly he thought of a plan the clever jackal called out to the cave  hello my good cave what happened to you today why are you so quiet the jackal s voice echoed deep inside the cave the lion who by now could control his hunger no longer thought to himself  i think it is because i am here that the cave is silent before the jackal realises that something is wrong i should do something the jackal continued to call out  have you forgotten our agreement cave you are supposed to greet me when i return home the lion tried to make his voice sound hollow and called out from within the cave  welcome home my friend the birds chirped loudly and flew away on hearing the lion s roar as for the jackal he shook with fear before the hungry lion could pounce on him and eat him up the jackal ran for his dear life as fast as his legs could carry him the lion waited for a long while for the jackal to enter the cave but when the jackal did not come in the lion realised that he had been fooled he cursed himself for his foolishness that made him lose a prey \n"
     ]
    }
   ],
   "source": [
    "#Story_1\n",
    "\n",
    "remove = string.punctuation\n",
    "remove = remove.replace(\".\", \"\")\n",
    "# Add the characters you want to remove\n",
    "remove += \"\\n“’\"\n",
    "\n",
    "pattern = \"[{}]\".format(re.escape(remove))\n",
    "line = norm_data\n",
    "cleaned_data1 = re.sub(pattern, \"\", line)\n",
    "\n",
    "print(cleaned_data1)"
   ]
  },
  {
   "cell_type": "code",
   "execution_count": 14,
   "id": "0d66d243",
   "metadata": {},
   "outputs": [
    {
     "name": "stdout",
     "output_type": "stream",
     "text": [
      "the winter had been especially cold the snow lay thick and heavy on the ground the squirrels the badgers and the hedgehogs had vanished into their snug winter homes to sleep away the cold dark months the swifts and the swallows had left for warmer countries long ago even the slugs and snails had disappeared hiding away in some dark warm patch of woodland to wait for the spring the woods and fields were silent and empty only a big black crow was hunting for her evening meal the crow had flown all day in search of food but she had found nothing not even a tiny mouse or a piece of someone s leftover lunch now she was tired and hungry she cawed sadly  i will have to go without dinner tonight  she thought as she flapped slowly across the sky in one last desperate search for something to eat she was on the point of turning back when she saw a thin column of smoke coming up into the sky far away in the distance  smoke means fire and fire means cooking and cooking means food thought the crow she flew as fast as she could towards the curling smoke the smoke came from the chimney of a large farmhouse where the farmers wife was cooking dinner for her family a delicioussmelling stew was bubbling in a large pot over the fire and loaves of freshbaked bread were on the table ready to be cut into slices a pat of butter and a chunk of cheese lay in their platters on the window sill the farmer s wife had left the window open so the cold air would keep the butter from melting and the cheese from sweating the crow saw the cheese by the open window quick as a flash she flew down to the window sill picked cheese in her big black beak and flew off the farmer s wife was stirring the stew with her back to the window she did not see the crow the crow was very pleased with herself nothing like a piece of cheese on a cold winter afternoon she thought she flew towards a clump of tall trees and perched comfortably on a bare branch high above the ground to enjoy her meal in comfort a wily old fox lay hidden among the bushes in the farmer s garden he had roamed the woods and fields all day in search of food but he had found nothing to eat not a bird nor a mouse nor even the scraps from someone s picnic now he was tired and hungry  i will have to go without dinner tonight  he sighed he was on the point of turning back when he saw the crow perch on the bare branch with the piece of cheese in her beak  what a lovely smelly piece of cheese thought the fox i must have that piece of cheese for my dinner now if only i can take that cheese away from the crow… the fox watched the crow settle herself comfortably on the branch he smiled slyly to himself strolling up to the foot of the tree the fox called out  good evening mrs crow you look well today the crow looked down at the fox in surprise she had never heard him speak so politely before the fox continued oh mrs crow how beautiful you are your feathers are so black so smooth and shining truly i have never seen such feathers before the crow was even more surprised no one had ever called her beautiful before of course she had always known how pretty she was but it was pleasant to be admired by some one else the fox looked up at her and sighed ‘how graceful you are mrs crow how elegant you fly so wonderfully well too and higher than an eagle the crow held herself taller she had always known how graceful and elegant she was of course she could fly most wonderfully high how clever of the fox to know that she flapped her wings just a little bit so he could admire them again what a charming creature he was the fox took a deep breath and continued ‘your claws ahem i mean your talons mrs crow they are stronger than steel ah… her talons she had always been proud of her talons she hopped clumsily on the branch so that the fox could take another look at her claws really he did say the nicest things the crow was by now quite sure that she was the prettiest most graceful and the strongest bird of all the fox smiled secretly to himself he looked admiringly at the crow and said dear mrs crow i have not heard your voice it must be the sweetest voice in the world as beautiful as you are dear mrs crow wont you sing for me the crow was flattered all the other birds had told her that she had an awful voice and here was the fox begging her to sing for him of course she had always known what a lovely voice she had   the crow took a deep breath and opened her beak in a loud and raucous caw down dropped the piece of cheese the fox snapped it up as it fell and swallowed it before the crow realised what had happened the fox walked off chuckling  next time mrs crow be careful what you believe he cried as he vanished through the trees the crow was left feeling foolish how could she have been so vain and so silly as to be taken in by the foxs clever words and to lose her lovely dinner the crow ruffled her feathers sadly and got ready for a hungry night \n"
     ]
    }
   ],
   "source": [
    "#Story_2\n",
    "\n",
    "remove = string.punctuation\n",
    "remove = remove.replace(\".\", \"\")\n",
    "# Add the characters you want to remove\n",
    "remove += \"\\n“’\"\n",
    "pattern = \"[{}]\".format(re.escape(remove))\n",
    "line = norm_data2\n",
    "cleaned_data2 = re.sub(pattern, \"\", line)\n",
    "\n",
    "print(cleaned_data2)"
   ]
  },
  {
   "cell_type": "code",
   "execution_count": 15,
   "id": "7ea1727d",
   "metadata": {
    "scrolled": true
   },
   "outputs": [
    {
     "name": "stdout",
     "output_type": "stream",
     "text": [
      "{'became', 'what', 'agreement', 'all', 'prey', 'mouth', 'his', 'insects', 'staying', 'alerted', 'crow', 'deep', 'air', 'wrong', 'had', 'one', 'up', 'rest', 'legs', 'cautiously', 'while', 'some', 'forgotten', 'more', 'wandering', 'anymore', 'he', 'will', 'and', 'must', 'suddenly', 'been', 'should', 'carry', 'everyday', 'signs', 'towards', 'flew', 'dear', 'quiet', 'i', 'the', 'danger', 'realised', 'plan', 'old', 'cursed', 'hunt', 'here', 'across', 'everything', 'hunger', 'as', 'came', 'friend', 'empty', 'lose', 'because', 'tried', 'hollow', 'jackal', 'of', 'away', 'only', 'longer', 'hearing', 'ran', 'voice', 'by', 'lion', 'forest', 'make', 'echoed', 'having', 'to', 'food', 'silent', 'inside', 'eat', 'not', 'him', 'now', 'long', 'chirped', 'with', 'within', 'grown', 'today', 'when', 'closer', 'clever', 'there', 'peeped', 'himself', 'on', 'roar', 'started', 'you', 'a', 'go', 'days', 'did', 'out', 'our', 'could', 'after', 'my', 'fear', 'sure', 'hide', 'do', 'alright', 'loudly', 'fooled', 'very', 'it', 'home', 'something', 'is', 'watching', 'realises', 'birds', 'made', 'got', 's', 'but', 'cave', 'welcome', 'foolishness', 'no', 'through', 'looked', 'from', 'wait', 'any', 'good', 'have', 'happened', 'life', 'fast', 'instincts', 'would', 'pounce', 'around', 'greet', 'in', 'felt', 'slowly', 'waited', 'shook', 'walked', 'day', 'continued', 'animal', 'return', 'for', 'so', 'said', 'lived', 'call', 'why', 'that', 'who', 'come', 'hungry', 'meal', 'am', 'think', 'are', 'sound', 'difficult', 'crept', 'thought', 'smelt', 'run', 'enter', 'evening', 'before', 'control', 'called', 'went', 'be', 'hello', 'search', 'supposed', 'me', 'find', 'was'}\n"
     ]
    }
   ],
   "source": [
    "# Tokenize the text by splitting it into words for the first story\n",
    "story1 = cleaned_data1\n",
    "words_story1 = story1.split()\n",
    "\n",
    "# Create a set to store unique words (vocabulary) of the first story\n",
    "vocabulary_story1 = set(words_story1)\n",
    "\n",
    "print(vocabulary_story1)"
   ]
  },
  {
   "cell_type": "code",
   "execution_count": 16,
   "id": "e16a0f33",
   "metadata": {},
   "outputs": [
    {
     "name": "stdout",
     "output_type": "stream",
     "text": [
      "{'your', 'patch', 'most', 'sill', 'know', 'air', 'beak', 'up', 'crow…', 'must', 'such', 'beautiful', 'towards', 'watched', 'believe', 'i', 'strongest', 'spring', 'night', 'perch', 'across', 'lose', 'badgers', 'came', 'back', 'coming', 'lay', 'comfort', 'trees', 'snapped', 'course', 'oh', 'swifts', 'now', 'stirring', 'see', 'sleep', 'how', 'clump', 'steel', 'himself', 'a', 'high', 'out', 'could', 'fox', 'my', 'quick', 'very', 'tiny', 'lovely', 'feathers', 'disappeared', 'heard', 'graceful', 'got', 'loaves', 'admired', 'heavy', 'world', 'open', 'looked', 'through', 'wait', 'table', 'like', 'just', 'them', 'dinner', 'walked', 'swallows', 'swallowed', 'roamed', 'so', 'cheese', 'nothing', 'next', 'flattered', 'really', 'branch', 'hungry', 'herself', 'clumsily', 'she', 'tired', 'little', 'picked', 'thought', 'evening', 'snug', 'search', 'what', 'bare', 'smooth', 'claws', 'countries', 'their', 'awful', 'deep', 'smoke', 'higher', 'snails', 'some', 'more', 'big', 'he', 'look', 'and', 'perched', 'flash', 'dear', 'the', 'feeling', 'known', 'creature', 'without', 'woodland', 'cut', 'over', 'lunch', 'surprise', 'garden', 'homes', 'food', 'admiringly', 'foolish', 'bubbling', 'him', 'taken', 'chuckling', 'charming', 'pleased', 'with', 'today', 'vain', 'eagle', 'you', 'did', 'chunk', 'sure', 'afternoon', 'sadly', 'winter', 'something', 'ruffled', 'bird', 'talons', 'fields', 'delicioussmelling', 'but', 'thin', 'no', 'truly', 'have', 'happened', 'fast', 'wings', 'begging', 'sky', 'keep', 'continued', 'careful', 'point', 'for', 'platters', 'that', 'secretly', 'again', 'far', 'or', 'bit', 'called', 'be', 'mrs', 'all', 'last', 'told', 'crow', 'too', 'had', 'one', 'pleasant', 'window', 'took', 'family', 'strolling', 'quite', '‘your', 'enjoy', 'dropped', 'proud', 'her', 'another', 'been', 'surprised', 'breath', 'nicest', 'slices', 'above', 'flew', 'mean', 'than', 'things', 'warmer', 'as', 'slyly', 'large', 'caw', 'sweetest', 'of', 'prettiest', 'bushes', 'fire', 'butter', 'hopped', 'silent', 'not', 'hiding', 'ago', 'long', 'tree', 'ever', 'ground', 'stew', 'into', 'freshbaked', 'at', 'time', 'thick', 'farmhouse', 'hunting', 'it', 'say', 'farmers', 'farmer', 'hedgehogs', 'ready', 'birds', 'dark', 'saw', 'well', 'pat', 'from', 'were', 'loud', 'tall', 'curling', 'in', 'slowly', 'pot', '‘how', 'day', 'chimney', 'seen', 'foot', 'months', 'cold', 'shining', 'distance', 'fly', 'meal', 'leftover', 'are', 'down', 'words', 'settle', 'before', 'me', 'politely', 'never', 'can', 'left', 'among', 'even', 'held', 'squirrels', 'will', 'hidden', 'cried', 'always', 'bread', 'mouse', 'someone', 'wily', 'realised', 'warm', 'comfortably', 'old', 'admire', 'turning', 'here', 'empty', 'ah…', 'foxs', 'wonderfully', 'cooking', 'raucous', 'away', 'only', 'nor', 'especially', 'voice', 'by', 'desperate', 'wife', 'stronger', 'smelly', 'to', 'eat', 'sing', 'sighed', 'flown', 'they', 'taller', 'snow', 'when', 'clever', 'if', 'on', 'fell', 'go', 'black', 'where', 'take', 'column', 'means', 'vanished', 'else', 'picnic', 'an', 'off', 'silly', 's', 'piece', 'cawed', 'scraps', 'good', 'slugs', 'would', 'smiled', 'flapped', 'melting', 'speak', 'pretty', 'sweating', 'said', 'found', 'opened', 'tonight', 'wont', 'ahem', 'other', 'woods', 'elegant', 'was'}\n"
     ]
    }
   ],
   "source": [
    "# Tokenize the text by splitting it into words for the first story\n",
    "story2 = cleaned_data2\n",
    "words_story2 = story2.split()\n",
    "\n",
    "# Create a set to store unique words (vocabulary) of the first story\n",
    "vocabulary_story2 = set(words_story2)\n",
    "\n",
    "print(vocabulary_story2)"
   ]
  },
  {
   "cell_type": "code",
   "execution_count": 17,
   "id": "d8db19bb",
   "metadata": {},
   "outputs": [
    {
     "name": "stdout",
     "output_type": "stream",
     "text": [
      "{'what', 'all', 'crow', 'deep', 'air', 'had', 'one', 'up', 'some', 'more', 'he', 'will', 'and', 'must', 'been', 'towards', 'flew', 'dear', 'i', 'the', 'realised', 'old', 'here', 'across', 'as', 'came', 'lose', 'empty', 'of', 'away', 'only', 'voice', 'by', 'to', 'food', 'silent', 'eat', 'not', 'him', 'now', 'long', 'with', 'today', 'when', 'clever', 'himself', 'on', 'you', 'a', 'go', 'did', 'out', 'could', 'my', 'sure', 'very', 'it', 'something', 'birds', 'got', 's', 'but', 'no', 'through', 'looked', 'from', 'wait', 'good', 'have', 'happened', 'fast', 'would', 'in', 'slowly', 'walked', 'day', 'continued', 'for', 'so', 'said', 'that', 'hungry', 'meal', 'are', 'thought', 'evening', 'before', 'called', 'be', 'search', 'me', 'was'}\n"
     ]
    }
   ],
   "source": [
    "# Find common words using set intersection\n",
    "common_words = vocabulary_story1.intersection(vocabulary_story2)\n",
    "\n",
    "print(common_words)"
   ]
  },
  {
   "cell_type": "code",
   "execution_count": 18,
   "id": "90e54166",
   "metadata": {},
   "outputs": [
    {
     "data": {
      "text/plain": [
       "{'a',\n",
       " 'across',\n",
       " 'air',\n",
       " 'all',\n",
       " 'and',\n",
       " 'are',\n",
       " 'as',\n",
       " 'away',\n",
       " 'be',\n",
       " 'been',\n",
       " 'before',\n",
       " 'birds',\n",
       " 'but',\n",
       " 'by',\n",
       " 'called',\n",
       " 'came',\n",
       " 'clever',\n",
       " 'continued',\n",
       " 'could',\n",
       " 'crow',\n",
       " 'day',\n",
       " 'dear',\n",
       " 'deep',\n",
       " 'did',\n",
       " 'eat',\n",
       " 'empty',\n",
       " 'evening',\n",
       " 'fast',\n",
       " 'flew',\n",
       " 'food',\n",
       " 'for',\n",
       " 'from',\n",
       " 'go',\n",
       " 'good',\n",
       " 'got',\n",
       " 'had',\n",
       " 'happened',\n",
       " 'have',\n",
       " 'he',\n",
       " 'here',\n",
       " 'him',\n",
       " 'himself',\n",
       " 'hungry',\n",
       " 'i',\n",
       " 'in',\n",
       " 'it',\n",
       " 'long',\n",
       " 'looked',\n",
       " 'lose',\n",
       " 'me',\n",
       " 'meal',\n",
       " 'more',\n",
       " 'must',\n",
       " 'my',\n",
       " 'no',\n",
       " 'not',\n",
       " 'now',\n",
       " 'of',\n",
       " 'old',\n",
       " 'on',\n",
       " 'one',\n",
       " 'only',\n",
       " 'out',\n",
       " 'realised',\n",
       " 's',\n",
       " 'said',\n",
       " 'search',\n",
       " 'silent',\n",
       " 'slowly',\n",
       " 'so',\n",
       " 'some',\n",
       " 'something',\n",
       " 'sure',\n",
       " 'that',\n",
       " 'the',\n",
       " 'thought',\n",
       " 'through',\n",
       " 'to',\n",
       " 'today',\n",
       " 'towards',\n",
       " 'up',\n",
       " 'very',\n",
       " 'voice',\n",
       " 'wait',\n",
       " 'walked',\n",
       " 'was',\n",
       " 'what',\n",
       " 'when',\n",
       " 'will',\n",
       " 'with',\n",
       " 'would',\n",
       " 'you'}"
      ]
     },
     "execution_count": 18,
     "metadata": {},
     "output_type": "execute_result"
    }
   ],
   "source": [
    "## animals\n",
    "\n",
    "common_words"
   ]
  },
  {
   "cell_type": "code",
   "execution_count": 19,
   "id": "7bb601b6",
   "metadata": {},
   "outputs": [
    {
     "name": "stdout",
     "output_type": "stream",
     "text": [
      "The two stories talk about: crow.\n"
     ]
    }
   ],
   "source": [
    "common_animals=[]\n",
    "for animal in animals:\n",
    "    if animal in common_words:\n",
    "        common_animals.append(animal)\n",
    "if common_animals:\n",
    "    print(f'The two stories talk about: {\", \".join(common_animals)}.')\n",
    "else:\n",
    "    print('There are no animals common between the two stories.')"
   ]
  },
  {
   "cell_type": "code",
   "execution_count": 20,
   "id": "f7869bc3",
   "metadata": {},
   "outputs": [],
   "source": [
    "#Quesion_2"
   ]
  },
  {
   "cell_type": "code",
   "execution_count": 29,
   "id": "8ac86352",
   "metadata": {},
   "outputs": [
    {
     "name": "stdout",
     "output_type": "stream",
     "text": [
      "Enter the product spec: “computer with at least 5GHz and at least 600GB storage for not more than $900”.\n"
     ]
    },
    {
     "data": {
      "text/plain": [
       "['5GHz', '600GB', '$900']"
      ]
     },
     "execution_count": 29,
     "metadata": {},
     "output_type": "execute_result"
    }
   ],
   "source": [
    "product_spec = ['Lenovo 5GHz 600GB $900', 'Toshiba 6GHz 800GB $990', 'Dell 8GHz 500GB $980', 'HP 8Ghz 500GB $1100', 'Asus 6GHz 400GB $900']\n",
    "\n",
    "user=input(\"Enter the product spec: \")\n",
    "pattern = re.findall(r'(\\d+GHz|\\d+GB|\\$\\d+)',user)\n",
    "pattern"
   ]
  },
  {
   "cell_type": "code",
   "execution_count": 30,
   "id": "01530c1f",
   "metadata": {},
   "outputs": [],
   "source": [
    "matching_requirement=[]\n",
    "for i in product_spec:\n",
    "    match=True\n",
    "    for spec in pattern:\n",
    "        if spec not in i:\n",
    "            match=False\n",
    "            break\n",
    "    if match:\n",
    "        matching_requirement.append(i)"
   ]
  },
  {
   "cell_type": "code",
   "execution_count": 31,
   "id": "5db55434",
   "metadata": {},
   "outputs": [
    {
     "name": "stdout",
     "output_type": "stream",
     "text": [
      "There is 1 computer available: \n",
      "Lenovo 5GHz 600GB $900\n"
     ]
    }
   ],
   "source": [
    "if matching_requirement:\n",
    "    print(f'There is {len(matching_requirement)} computer available: ')\n",
    "    for computer in matching_requirement:\n",
    "        print(computer)\n",
    "else:\n",
    "    print('There are no computers available matching your requirements!')"
   ]
  },
  {
   "cell_type": "code",
   "execution_count": null,
   "id": "de43f281",
   "metadata": {},
   "outputs": [],
   "source": []
  }
 ],
 "metadata": {
  "kernelspec": {
   "display_name": "Python 3 (ipykernel)",
   "language": "python",
   "name": "python3"
  },
  "language_info": {
   "codemirror_mode": {
    "name": "ipython",
    "version": 3
   },
   "file_extension": ".py",
   "mimetype": "text/x-python",
   "name": "python",
   "nbconvert_exporter": "python",
   "pygments_lexer": "ipython3",
   "version": "3.9.12"
  }
 },
 "nbformat": 4,
 "nbformat_minor": 5
}
