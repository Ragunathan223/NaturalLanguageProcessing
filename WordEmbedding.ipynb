{
  "cells": [
    {
      "cell_type": "markdown",
      "id": "5641c4c0",
      "metadata": {
        "id": "5641c4c0"
      },
      "source": [
        "# 1. For the given corpus, build word embeddings using Gensim library with:\n"
      ]
    },
    {
      "cell_type": "code",
      "execution_count": null,
      "id": "c9aca5c2",
      "metadata": {
        "id": "c9aca5c2"
      },
      "outputs": [],
      "source": [
        "corpus = ['I love nlp', 'I will learn nlp in 2 months', 'nlp is the future of data science','nlp saves time and solves a lot of industry problems','nlp uses machine learning']"
      ]
    },
    {
      "cell_type": "code",
      "execution_count": null,
      "id": "e9f88ac4",
      "metadata": {
        "id": "e9f88ac4",
        "outputId": "9f48d754-c897-4933-8a6f-be854e097196"
      },
      "outputs": [
        {
          "name": "stdout",
          "output_type": "stream",
          "text": [
            "Requirement already satisfied: gensim in c:\\users\\ragunathan e s\\anaconda3\\lib\\site-packages (4.1.2)\n",
            "Requirement already satisfied: numpy>=1.17.0 in c:\\users\\ragunathan e s\\anaconda3\\lib\\site-packages (from gensim) (1.22.4)\n",
            "Requirement already satisfied: scipy>=0.18.1 in c:\\users\\ragunathan e s\\anaconda3\\lib\\site-packages (from gensim) (1.7.3)\n",
            "Requirement already satisfied: smart-open>=1.8.1 in c:\\users\\ragunathan e s\\anaconda3\\lib\\site-packages (from gensim) (6.3.0)\n"
          ]
        },
        {
          "name": "stderr",
          "output_type": "stream",
          "text": [
            "WARNING: Ignoring invalid distribution -rotobuf (c:\\users\\ragunathan e s\\anaconda3\\lib\\site-packages)\n",
            "WARNING: Ignoring invalid distribution -rotobuf (c:\\users\\ragunathan e s\\anaconda3\\lib\\site-packages)\n",
            "\n",
            "[notice] A new release of pip is available: 23.1.2 -> 23.2.1\n",
            "[notice] To update, run: python.exe -m pip install --upgrade pip\n"
          ]
        }
      ],
      "source": [
        "!pip install gensim"
      ]
    },
    {
      "cell_type": "code",
      "execution_count": null,
      "id": "2b10488c",
      "metadata": {
        "id": "2b10488c",
        "outputId": "4b7f36e0-d147-4bab-aec3-89e53cbbde3c"
      },
      "outputs": [
        {
          "name": "stderr",
          "output_type": "stream",
          "text": [
            "[nltk_data] Downloading package punkt to C:\\Users\\Ragunathan E\n",
            "[nltk_data]     S\\AppData\\Roaming\\nltk_data...\n",
            "[nltk_data]   Package punkt is already up-to-date!\n"
          ]
        }
      ],
      "source": [
        "from gensim.models import Word2Vec\n",
        "from nltk.tokenize import word_tokenize\n",
        "import nltk\n",
        "nltk.download('punkt')\n",
        "from nltk.tokenize import word_tokenize"
      ]
    },
    {
      "cell_type": "code",
      "execution_count": null,
      "id": "a518624d",
      "metadata": {
        "id": "a518624d"
      },
      "outputs": [],
      "source": [
        "# a) 50 features, context window is 3, CBOW"
      ]
    },
    {
      "cell_type": "code",
      "execution_count": null,
      "id": "8ced4839",
      "metadata": {
        "id": "8ced4839"
      },
      "outputs": [],
      "source": [
        "tokenized_corpus = [word_tokenize(sentence.lower()) for sentence in corpus]"
      ]
    },
    {
      "cell_type": "code",
      "execution_count": null,
      "id": "e3b7dc9b",
      "metadata": {
        "id": "e3b7dc9b"
      },
      "outputs": [],
      "source": [
        "# Define and train the Word2Vec model with increased min_count and epochs\n",
        "model = Word2Vec(\n",
        "    tokenized_corpus,\n",
        "    vector_size=50,\n",
        "    window=3,\n",
        "    sg=0,\n",
        "    min_count=1,\n",
        "    epochs=200\n",
        ")\n"
      ]
    },
    {
      "cell_type": "code",
      "execution_count": null,
      "id": "906235a2",
      "metadata": {
        "id": "906235a2"
      },
      "outputs": [],
      "source": [
        "# Build the vocabulary\n",
        "model.build_vocab(tokenized_corpus)"
      ]
    },
    {
      "cell_type": "code",
      "execution_count": null,
      "id": "9200064d",
      "metadata": {
        "id": "9200064d",
        "outputId": "cf4e288e-0093-4b70-bd40-93ddfbb2cfea"
      },
      "outputs": [
        {
          "data": {
            "text/plain": [
              "(1156, 6200)"
            ]
          },
          "execution_count": 9,
          "metadata": {},
          "output_type": "execute_result"
        }
      ],
      "source": [
        "# Train the model\n",
        "model.train(tokenized_corpus, total_examples=len(tokenized_corpus), epochs=model.epochs)"
      ]
    },
    {
      "cell_type": "code",
      "execution_count": null,
      "id": "0a296044",
      "metadata": {
        "id": "0a296044"
      },
      "outputs": [],
      "source": [
        "similar_words = model.wv.most_similar('nlp')"
      ]
    },
    {
      "cell_type": "code",
      "execution_count": null,
      "id": "9baeb92e",
      "metadata": {
        "id": "9baeb92e",
        "outputId": "1dd7fd4c-2215-4c03-9161-b569db5e981c"
      },
      "outputs": [
        {
          "name": "stdout",
          "output_type": "stream",
          "text": [
            "Word: time, Similarity Score: 0.4561\n",
            "Word: a, Similarity Score: 0.4546\n",
            "Word: of, Similarity Score: 0.4406\n",
            "Word: i, Similarity Score: 0.3909\n",
            "Word: saves, Similarity Score: 0.3740\n",
            "Word: and, Similarity Score: 0.3710\n",
            "Word: learn, Similarity Score: 0.3513\n",
            "Word: machine, Similarity Score: 0.3355\n",
            "Word: industry, Similarity Score: 0.3270\n",
            "Word: solves, Similarity Score: 0.3155\n"
          ]
        }
      ],
      "source": [
        "# Print the similar words and their similarity scores\n",
        "for word, score in similar_words:\n",
        "    print(f\"Word: {word}, Similarity Score: {score:.4f}\")"
      ]
    },
    {
      "cell_type": "code",
      "execution_count": null,
      "id": "9ea6bf2b",
      "metadata": {
        "id": "9ea6bf2b"
      },
      "outputs": [],
      "source": [
        "# b) 30 features, context window is 5, Skipgram"
      ]
    },
    {
      "cell_type": "code",
      "execution_count": null,
      "id": "fd3218ba",
      "metadata": {
        "id": "fd3218ba"
      },
      "outputs": [],
      "source": [
        "model2 = Word2Vec(\n",
        "    tokenized_corpus,\n",
        "    vector_size=30,  # Number of features\n",
        "    window=5,        # Context window size\n",
        "    sg=1,            # Skip-gram model (1 for Skip-gram, 0 for CBOW)\n",
        "    min_count=1,     # Minimum word count threshold\n",
        "    epochs=100       # Number of training epochs\n",
        ")"
      ]
    },
    {
      "cell_type": "code",
      "execution_count": null,
      "id": "6349d901",
      "metadata": {
        "id": "6349d901"
      },
      "outputs": [],
      "source": [
        "model2.build_vocab(tokenized_corpus)"
      ]
    },
    {
      "cell_type": "code",
      "execution_count": null,
      "id": "ef75d49b",
      "metadata": {
        "id": "ef75d49b",
        "outputId": "92de4b46-641e-4dbb-f127-afca450bb117"
      },
      "outputs": [
        {
          "data": {
            "text/plain": [
              "(1079, 6200)"
            ]
          },
          "execution_count": 15,
          "metadata": {},
          "output_type": "execute_result"
        }
      ],
      "source": [
        "model2.train(tokenized_corpus, total_examples=len(tokenized_corpus), epochs=model.epochs)"
      ]
    },
    {
      "cell_type": "code",
      "execution_count": null,
      "id": "89851150",
      "metadata": {
        "id": "89851150"
      },
      "outputs": [],
      "source": [
        "similar_words2 = model2.wv.most_similar('nlp')"
      ]
    },
    {
      "cell_type": "code",
      "execution_count": null,
      "id": "442a453e",
      "metadata": {
        "id": "442a453e",
        "outputId": "17fe3082-15ee-4533-f77c-db13b100a4c8"
      },
      "outputs": [
        {
          "name": "stdout",
          "output_type": "stream",
          "text": [
            "Word: future, Similarity Score: 0.6164\n",
            "Word: is, Similarity Score: 0.4632\n",
            "Word: of, Similarity Score: 0.3818\n",
            "Word: and, Similarity Score: 0.3772\n",
            "Word: learn, Similarity Score: 0.3482\n",
            "Word: industry, Similarity Score: 0.3464\n",
            "Word: saves, Similarity Score: 0.3278\n",
            "Word: months, Similarity Score: 0.2885\n",
            "Word: uses, Similarity Score: 0.2692\n",
            "Word: a, Similarity Score: 0.2295\n"
          ]
        }
      ],
      "source": [
        "for word, score in similar_words2:\n",
        "    print(f\"Word: {word}, Similarity Score: {score:.4f}\")"
      ]
    },
    {
      "cell_type": "code",
      "execution_count": null,
      "id": "3b24579b",
      "metadata": {
        "id": "3b24579b"
      },
      "outputs": [],
      "source": [
        "# c) Print the vocabulary of the model"
      ]
    },
    {
      "cell_type": "code",
      "execution_count": null,
      "id": "280fdeec",
      "metadata": {
        "id": "280fdeec",
        "outputId": "41fcadd4-affd-4562-b763-1f4344838433"
      },
      "outputs": [
        {
          "name": "stdout",
          "output_type": "stream",
          "text": [
            "['nlp', 'i', 'of', 'love', 'will', 'learn', 'in', '2', 'months', 'is', 'the', 'future', 'learning', 'machine', 'science', 'saves', 'time', 'and', 'solves', 'a', 'lot', 'industry', 'problems', 'uses', 'data']\n"
          ]
        }
      ],
      "source": [
        "vocabulary = list(model.wv.index_to_key)\n",
        "print(vocabulary)"
      ]
    },
    {
      "cell_type": "code",
      "execution_count": null,
      "id": "a0158adb",
      "metadata": {
        "id": "a0158adb"
      },
      "outputs": [],
      "source": [
        "# d) Print the word embedding vector for all words in the vocabulary"
      ]
    },
    {
      "cell_type": "code",
      "execution_count": null,
      "id": "45997e24",
      "metadata": {
        "id": "45997e24",
        "outputId": "83ea74d5-3c9e-45f1-91d2-41e7f5558e2b"
      },
      "outputs": [
        {
          "name": "stdout",
          "output_type": "stream",
          "text": [
            "Word: nlp, Vector: [-0.02158969  0.00775962  0.01390408  0.01297798  0.01064227 -0.01926957\n",
            "  0.00193343  0.01973714 -0.01248791 -0.02261024  0.00414072 -0.02390468\n",
            " -0.00272264  0.01502186  0.00330662  0.01927677  0.01718715  0.02121904\n",
            " -0.01984218 -0.01477815  0.00302771 -0.00352297  0.03076388 -0.01822956\n",
            "  0.01232236  0.00791129 -0.01280382  0.01471513 -0.00847301  0.01338744\n",
            "  0.02360823 -0.01545691  0.00068627 -0.01053735  0.00532902  0.00365263\n",
            "  0.01877532  0.01349075  0.02168116  0.02019782  0.01743446 -0.01247958\n",
            " -0.0264321   0.00215209  0.00379593  0.01622922  0.01539216 -0.00422567\n",
            "  0.0075457   0.0025722 ]\n",
            "Word: i, Vector: [-3.67060397e-03  1.30276114e-03  1.15137966e-02  1.89594291e-02\n",
            " -2.10512187e-02 -1.85734946e-02  1.32320793e-02  2.29313672e-02\n",
            " -1.40100690e-02 -1.36379125e-02  1.79393310e-02 -6.82737911e-03\n",
            " -3.56372679e-03  1.35711906e-02 -1.15704685e-02 -1.51239068e-03\n",
            "  7.96571095e-03  5.91805438e-03 -2.45687719e-02 -2.74247751e-02\n",
            "  1.40994005e-02  1.33683160e-02  2.19668690e-02  2.71390821e-03\n",
            "  1.20475413e-02 -6.11358881e-03 -3.37676727e-03  1.55230751e-02\n",
            " -1.86090004e-02 -8.00231937e-03 -1.28723169e-02 -6.00654725e-03\n",
            "  2.01979559e-02 -1.41623905e-02 -6.20354293e-03 -5.18281572e-03\n",
            "  1.94693469e-02 -1.14370212e-02  1.34661654e-03 -8.88156984e-03\n",
            " -1.92876905e-02  1.14214458e-02 -2.19916962e-02 -7.22909160e-03\n",
            "  6.76673371e-03 -6.36359255e-05 -1.32697234e-02  1.85107179e-02\n",
            "  1.27063934e-02  1.78475827e-02]\n",
            "Word: of, Vector: [ 0.00212064 -0.01655386  0.01799422  0.01825152 -0.02176705  0.00028367\n",
            "  0.01990598 -0.01051986 -0.01842065 -0.02247904  0.01970761 -0.00643168\n",
            "  0.02396524 -0.01578359  0.00477265  0.00856939  0.00378131  0.00898819\n",
            " -0.02329591 -0.0278351   0.00354007  0.01629569  0.02564831  0.01297957\n",
            " -0.00222676  0.01831028 -0.02087292  0.01056832 -0.00320966  0.00785633\n",
            "  0.01777136 -0.01802674  0.01275425 -0.01870869 -0.00331941 -0.01871886\n",
            " -0.00693017  0.01957862 -0.00187869  0.0072458   0.01982023  0.01881233\n",
            " -0.02202121 -0.00429804  0.02676533  0.01081786 -0.00059882 -0.01821859\n",
            "  0.00926517 -0.01441916]\n",
            "Word: love, Vector: [-0.01681823  0.00918871 -0.00835439  0.00181566  0.01669501 -0.00960373\n",
            "  0.00922169 -0.01270039 -0.00769302  0.01782219 -0.00271022  0.00012765\n",
            " -0.0072552  -0.01543138 -0.00335267  0.00510485 -0.00138843  0.01167216\n",
            " -0.00692786  0.00313414  0.01086063  0.01726475 -0.00155049 -0.01797045\n",
            "  0.00861186  0.00123665  0.01470446 -0.00083907 -0.00612453 -0.01747694\n",
            " -0.0012812   0.0049516   0.01101726  0.0141343  -0.01172697  0.00350843\n",
            "  0.01265305 -0.00966617 -0.00610733  0.01376739  0.00308669  0.0008619\n",
            "  0.00632289  0.00065977  0.02057089  0.01028719 -0.01743996 -0.01418797\n",
            "  0.00228324  0.01258909]\n",
            "Word: will, Vector: [ 0.01436366 -0.01906776  0.00105275  0.00746698 -0.00374323  0.01403592\n",
            "  0.01801111  0.01629496 -0.00431189  0.01123517 -0.01522413  0.00354929\n",
            " -0.00566142 -0.01005416  0.00609106  0.01293549  0.01780031 -0.00903746\n",
            "  0.0099024   0.00821627 -0.00824881 -0.01554121  0.0165839   0.01361979\n",
            " -0.00205093 -0.01248247 -0.01530067 -0.00238898  0.00854493 -0.00710596\n",
            " -0.0175499   0.00488889  0.01029245 -0.01291815  0.0014853  -0.00500743\n",
            "  0.00206722 -0.01963755  0.00654908 -0.00879308  0.0029494  -0.00261385\n",
            "  0.00136478 -0.0148295  -0.00139631  0.00556151  0.01235065 -0.00542325\n",
            " -0.01756459  0.00865866]\n",
            "Word: learn, Vector: [-0.00225352  0.00718356 -0.0125638  -0.00234173  0.01339633  0.01101955\n",
            " -0.00695014  0.01047274 -0.02029739  0.00678467 -0.0064684  -0.00965632\n",
            "  0.02366604  0.00197304  0.01383031 -0.01047311  0.01336365  0.02409231\n",
            " -0.02469156 -0.01755401 -0.01475582 -0.00746798  0.0005393  -0.01559222\n",
            "  0.01512891 -0.00887022  0.01581299  0.01496025 -0.01658218  0.00818324\n",
            "  0.0127183  -0.0189506  -0.01442377 -0.00545859 -0.01849078 -0.00446024\n",
            "  0.0025743   0.00667988  0.00401389 -0.00087601 -0.01123498  0.00463006\n",
            " -0.00580767  0.01498893  0.0146086   0.0096882   0.00535727 -0.00641487\n",
            " -0.00661705 -0.00285759]\n",
            "Word: in, Vector: [ 8.69989570e-04 -4.86747082e-03 -1.29811205e-02 -1.51237259e-02\n",
            " -2.07995027e-02 -1.57804452e-02 -3.45406611e-03 -3.81185021e-03\n",
            " -1.67944152e-02 -1.31301237e-02  1.16139455e-02 -1.08753610e-02\n",
            "  2.15855688e-02  3.35931196e-03 -1.59469265e-02  2.10852697e-02\n",
            "  1.83775928e-02  1.48771089e-02 -2.09748633e-02  4.35802946e-03\n",
            "  7.48890731e-03  1.28886756e-02  1.63134653e-02  5.15468186e-03\n",
            " -6.98936312e-03  1.76907703e-02  1.80498641e-02  1.19094159e-02\n",
            " -8.74257460e-03  1.13778086e-04  4.14011255e-03 -2.06983164e-02\n",
            " -1.59242693e-02 -6.68967667e-04  1.04531273e-03 -1.28032202e-02\n",
            " -6.31735660e-03 -1.47103248e-02  1.78424399e-02  9.80134238e-04\n",
            " -8.76583625e-03  1.25560295e-02  1.44533450e-02 -7.06777303e-03\n",
            "  2.22176630e-02  1.13898171e-02  1.39150396e-02 -2.15904547e-05\n",
            "  1.85784455e-02 -1.45558706e-02]\n",
            "Word: 2, Vector: [-0.01851908  0.01922525  0.00040861 -0.00323435  0.00727479 -0.01157526\n",
            "  0.00603789  0.01828294  0.00863003 -0.019943    0.02132196  0.00639174\n",
            "  0.01249676 -0.0121263   0.01554441 -0.00246108  0.02019645 -0.00714715\n",
            " -0.0231083   0.00690175  0.00282575 -0.00220928  0.02647341  0.02029946\n",
            " -0.02022036  0.00554907  0.0112631   0.01128258  0.00092791  0.00075532\n",
            "  0.00312927 -0.01116857 -0.0136251  -0.00436879  0.00670926  0.01653993\n",
            "  0.0213685  -0.01204987 -0.01782217  0.0201431   0.00689835  0.01135569\n",
            "  0.00906804 -0.00451638  0.02071436  0.00652806  0.0076596  -0.00557713\n",
            " -0.00416975 -0.00543727]\n",
            "Word: months, Vector: [ 0.00694902  0.00049637 -0.01812865 -0.01885533 -0.01410733 -0.00319236\n",
            "  0.00420207  0.02264546  0.00820314 -0.01296351  0.00273339  0.00716324\n",
            "  0.01933046 -0.00193698  0.00760614 -0.00976581  0.00051322  0.01920464\n",
            " -0.01039048 -0.0250893   0.01102339 -0.00600376  0.00376426  0.02071359\n",
            " -0.00507836 -0.00903835 -0.01174755  0.01701174 -0.01380992  0.00427301\n",
            " -0.00921362  0.00916413  0.0092091   0.00521991 -0.00386864 -0.00651807\n",
            "  0.02047077  0.01052959 -0.00326566 -0.01843157 -0.01480113 -0.0013381\n",
            " -0.00472095 -0.00414241  0.02418897 -0.00038788  0.01352136 -0.0155781\n",
            " -0.00327923 -0.01151717]\n",
            "Word: is, Vector: [-1.6824508e-02  2.8318001e-03 -1.3097186e-02 -3.6053306e-03\n",
            "  5.4097702e-03  7.8984629e-03  2.6008333e-03  8.3497483e-03\n",
            " -1.1916463e-02  8.8168113e-03 -9.9374428e-03  5.8594677e-03\n",
            " -1.2024083e-02  4.4888901e-03 -1.1713590e-02 -6.4187469e-03\n",
            " -3.9055552e-03  1.4910380e-02  4.7276774e-03 -1.7383181e-02\n",
            "  6.9924613e-04 -1.4373641e-02  2.3412218e-02  2.0130759e-02\n",
            " -5.9820628e-03  2.4622420e-03  2.8421817e-05  1.4693336e-02\n",
            " -2.0245837e-02  1.2824496e-03  1.6245581e-02  9.1025000e-04\n",
            "  3.0202761e-03 -1.8739993e-02  1.5591983e-02 -1.3666746e-02\n",
            " -2.8143569e-03  7.4550021e-03 -9.0899639e-04  3.8421641e-03\n",
            "  4.7171032e-03 -1.3057270e-02 -2.3774510e-02  1.9425720e-02\n",
            "  1.8464472e-02 -1.3268361e-02  8.8310447e-03 -7.2956260e-04\n",
            "  1.1707815e-02 -1.4877815e-02]\n",
            "Word: the, Vector: [ 5.72727574e-03  8.91509745e-03  2.14217715e-02 -7.96004478e-03\n",
            " -4.80682310e-03 -1.84129160e-02 -1.93359200e-02 -1.44052198e-02\n",
            " -5.56964474e-03 -1.85406059e-02  1.19958268e-02 -1.58341285e-02\n",
            "  9.23245493e-03  1.61644816e-03 -8.69542919e-03  1.44380338e-05\n",
            "  2.20657513e-02  2.12164242e-02 -1.51487617e-02  1.11634396e-02\n",
            " -1.23039158e-02  1.46748479e-02  9.34660144e-04  8.15367140e-03\n",
            "  5.74266259e-03  1.47543838e-02 -6.35083206e-03  2.09260564e-02\n",
            "  1.25656659e-02 -1.87785160e-02 -1.36237750e-02 -1.87956225e-02\n",
            "  6.91613369e-03 -5.58412820e-03 -1.53283020e-02 -1.73648708e-02\n",
            "  1.93059631e-02  4.52494575e-03 -1.78120546e-02 -8.49462766e-03\n",
            "  7.43320072e-03 -8.59743729e-03  6.32174686e-03 -7.16489647e-03\n",
            "  1.06329955e-02 -1.59364156e-02  1.42160673e-02  8.99845269e-03\n",
            "  3.75954341e-03  5.69403032e-03]\n",
            "Word: future, Vector: [-2.00921204e-02  4.66272375e-03  8.71290322e-05 -1.76141653e-02\n",
            " -2.08589155e-02 -6.66107982e-03  9.10339598e-03  1.14398990e-02\n",
            " -1.68017577e-02 -1.95301417e-02 -7.81385601e-03 -8.45816173e-03\n",
            " -1.02117779e-02 -1.90487262e-02 -7.71907577e-03 -1.47737386e-02\n",
            " -9.89395007e-03 -8.07534903e-03 -1.14328675e-02 -1.08556580e-02\n",
            " -1.91340130e-02  1.64623861e-03  2.41516177e-02  1.66866314e-02\n",
            " -1.49034075e-02 -6.11756369e-03  4.56433417e-03 -1.58594772e-02\n",
            " -4.23635174e-05  1.34146065e-02  1.39459660e-02 -2.12700274e-02\n",
            " -7.83947390e-03 -1.64393671e-02 -1.50796177e-03  1.75111759e-02\n",
            "  1.46080647e-02  1.06595829e-02  1.11916168e-02 -5.41374041e-03\n",
            "  2.05249730e-02 -1.40537368e-02 -1.90715715e-02 -3.09482520e-03\n",
            "  4.14272770e-03 -6.37760106e-03  6.39473961e-04  1.45083629e-02\n",
            "  1.08531408e-03 -3.75078223e-03]\n",
            "Word: learning, Vector: [-5.73434308e-03 -1.01155424e-02  2.01629270e-02 -1.76902823e-02\n",
            "  7.74840824e-03  8.40659346e-03 -2.46524229e-03  2.10119076e-02\n",
            "  1.71554275e-02 -1.47578046e-02 -1.04103815e-02 -1.61586739e-02\n",
            " -1.25535131e-02 -5.95927471e-03 -1.25219021e-02 -1.54474834e-02\n",
            "  2.86526093e-03  8.62372573e-03  7.63167022e-03 -1.06398044e-02\n",
            " -9.61252209e-03  4.74438956e-03  6.27149083e-03  1.70854814e-02\n",
            "  4.03689446e-05  1.52476337e-02 -1.77367739e-02  1.93162765e-02\n",
            " -6.20767241e-03  1.75356083e-02 -1.36670107e-02  8.95342149e-04\n",
            "  2.89596571e-03 -2.30180904e-05 -1.13000963e-02 -1.93847660e-02\n",
            " -1.27879530e-02 -1.55015383e-02  4.75341221e-03  1.60338124e-03\n",
            " -3.13528744e-03  1.49984621e-02 -8.18603858e-03 -1.53649924e-03\n",
            " -1.36108482e-02 -1.96129661e-02  1.93080120e-02 -1.20362351e-02\n",
            " -1.10526932e-02  9.91029385e-03]\n",
            "Word: machine, Vector: [ 0.00385969 -0.01053058  0.01424083  0.0095385  -0.01542461 -0.00286493\n",
            "  0.00169066  0.0141141  -0.00568526 -0.00900706  0.00486941 -0.00065362\n",
            "  0.00510661 -0.00516028 -0.01327488  0.01601714  0.01643206  0.01871018\n",
            " -0.02145883  0.0009219  -0.0079356   0.0211329   0.0104398   0.01004655\n",
            "  0.0044597   0.01387559 -0.01243383  0.017782   -0.0066605  -0.00902115\n",
            " -0.00276324  0.01724961 -0.01326238 -0.00433657  0.01322036 -0.00067496\n",
            " -0.01106064 -0.01259153  0.01883064  0.01356243  0.01015645 -0.00606799\n",
            " -0.02131615  0.00856103  0.01772738 -0.01111901 -0.01459719 -0.00629942\n",
            " -0.00853548 -0.00500441]\n",
            "Word: science, Vector: [-2.20200350e-03 -1.76170506e-02 -1.63200907e-02  6.64633373e-03\n",
            " -1.82863493e-02 -2.13202313e-02 -4.50877566e-03 -1.44160064e-02\n",
            " -1.69953685e-02 -2.11704634e-02  1.37110404e-03 -1.17068198e-02\n",
            "  1.64990835e-02  3.39022442e-03 -8.26406106e-03  1.39694894e-02\n",
            " -1.06684063e-02 -7.30201369e-03 -1.92504171e-02 -1.43445004e-02\n",
            " -4.22136718e-03  1.51419854e-02  8.35447281e-07  1.06947171e-02\n",
            "  1.35106212e-02 -1.45702185e-02  7.77094439e-03  1.47327045e-02\n",
            " -8.02301615e-03  1.33428555e-02  1.42367920e-02 -1.55551024e-02\n",
            " -1.26368525e-02  5.25350356e-03 -4.20545135e-03 -1.28527051e-02\n",
            "  2.11636275e-02 -9.85508785e-03 -1.25165852e-02  4.33240319e-04\n",
            " -4.67584142e-03  1.47240958e-03 -1.03404336e-02  6.62539533e-05\n",
            "  2.78015574e-03  2.02479423e-03  1.75851546e-02 -1.18001970e-02\n",
            " -1.38393592e-03  1.09743262e-02]\n",
            "Word: saves, Vector: [ 0.01235906 -0.00843835  0.02120007  0.01803242 -0.0120742  -0.00501281\n",
            "  0.00846584 -0.00177357 -0.01654703 -0.02150081  0.00218148 -0.0067614\n",
            "  0.01599045 -0.00440404 -0.0034602   0.00889382  0.01234795  0.0047833\n",
            " -0.0227486  -0.02981503 -0.00137844  0.01833639  0.01447765 -0.01703142\n",
            " -0.01683838  0.01520058 -0.01000038  0.01668466 -0.01768536  0.01742475\n",
            " -0.00966553  0.00107099 -0.00026987 -0.01289281 -0.00858196 -0.00360464\n",
            " -0.00731818 -0.00105222 -0.0124572   0.00718207  0.01997521 -0.00344374\n",
            " -0.00891295  0.00960265  0.02547985 -0.0115431  -0.01124413 -0.00648879\n",
            "  0.02249269  0.00063585]\n",
            "Word: time, Vector: [-2.2624703e-02 -2.3919840e-03  2.3498874e-02 -1.3097445e-02\n",
            " -1.5281723e-02  1.0863102e-02 -1.8818041e-02  1.6277319e-02\n",
            " -6.1248834e-03  1.9671454e-03  2.1979647e-02 -1.4306552e-02\n",
            "  1.4293507e-03  1.8990949e-02  3.6571143e-04  1.8607017e-02\n",
            " -1.5537127e-02  2.5632180e-02 -1.6134167e-02 -2.7537033e-02\n",
            "  3.9684167e-03  5.5036037e-03  2.4894381e-02 -3.7733004e-03\n",
            " -9.6358201e-03  6.8905205e-03  1.3181912e-02 -4.0748897e-03\n",
            "  3.7447280e-06 -1.6192570e-02 -9.4800303e-03 -8.5104853e-03\n",
            " -1.5050371e-02  7.1974043e-03  4.5330948e-04 -6.3055754e-03\n",
            "  1.5616176e-02  2.1684198e-02  2.0501465e-02 -1.6278356e-03\n",
            "  6.2603233e-03 -6.4564822e-03 -2.5981452e-02  1.6122658e-02\n",
            "  6.5558064e-03 -8.7401946e-04  4.3244078e-04 -9.8231062e-03\n",
            "  1.3616350e-02 -9.5107136e-03]\n",
            "Word: and, Vector: [-2.2759605e-02  1.8546019e-02  1.1058000e-02  2.0091625e-02\n",
            "  1.0024706e-02 -6.6246607e-06  1.9438585e-02 -2.4157534e-03\n",
            " -1.8739790e-02  7.1723698e-05  1.1209149e-02 -1.7156448e-02\n",
            "  2.7066823e-02 -6.3527953e-03  1.5959535e-02  5.6153857e-03\n",
            " -1.0565231e-02  6.4264110e-04 -2.5205975e-02 -1.7512362e-02\n",
            "  7.3596492e-04  2.3877138e-02  3.0203059e-02 -1.2152673e-02\n",
            "  5.6983973e-03  5.7559893e-03 -7.3772101e-03 -1.4443513e-02\n",
            " -2.4280567e-03 -1.6414680e-02  1.5580727e-02 -1.7150545e-02\n",
            "  1.3059956e-02  2.1010118e-02 -2.1247913e-03  7.7973986e-03\n",
            "  2.7000395e-04  1.5623633e-02  1.0280441e-02 -1.6530121e-02\n",
            " -4.1618687e-03  8.9145480e-03 -6.7578573e-03  2.9765526e-04\n",
            "  6.3286535e-03 -2.7985740e-03  3.8825287e-03  7.9048248e-03\n",
            " -4.2761941e-03 -8.6384378e-03]\n",
            "Word: solves, Vector: [-0.00437491  0.00130307  0.00229092 -0.00771974  0.00523185 -0.01090585\n",
            "  0.00401947  0.00849998  0.00602149 -0.02283216 -0.00967848 -0.01563237\n",
            "  0.02692    -0.00209966 -0.02254078  0.00343604 -0.00651968  0.01711991\n",
            " -0.03051088 -0.00727102 -0.01994829  0.00789408  0.024783    0.01584195\n",
            " -0.01652284 -0.01059349 -0.01639515 -0.01146509 -0.02421537 -0.00435308\n",
            "  0.00205537 -0.02039444  0.01597019  0.00388511  0.00926615  0.00197289\n",
            "  0.00587575 -0.01350288 -0.00159788  0.01016628 -0.00894408  0.00367395\n",
            " -0.00147402 -0.0001762   0.02903755  0.01757478  0.00798464  0.01375072\n",
            "  0.01659463 -0.01232297]\n",
            "Word: a, Vector: [-0.01419293 -0.01263388 -0.0125976   0.01844854 -0.00749763 -0.02015787\n",
            " -0.00836746  0.01721482 -0.01146631 -0.01672764  0.0074839  -0.01194552\n",
            "  0.00513441  0.00281283 -0.00924436  0.02135483  0.01020638 -0.01498326\n",
            "  0.0012351  -0.02627543  0.00018712  0.0142046   0.00226015 -0.00330281\n",
            "  0.01471447 -0.00696535 -0.01810995  0.02310069 -0.00928146 -0.00948169\n",
            "  0.02043349  0.00257469  0.01103329  0.02013321 -0.01902804  0.0092353\n",
            "  0.00818113  0.00949552  0.00578821  0.01052953  0.00980813  0.01412657\n",
            " -0.01345547 -0.00628742  0.00835491  0.00569442 -0.00364037  0.01158139\n",
            "  0.01298976  0.01450966]\n",
            "Word: lot, Vector: [ 0.00113387  0.01698104 -0.00013444  0.01780275  0.00405811 -0.0222602\n",
            " -0.00825722  0.00189547  0.0043106  -0.01043113 -0.00151932  0.00952998\n",
            "  0.02663769 -0.00235476 -0.01324012 -0.00522162 -0.00753342 -0.01437648\n",
            " -0.00802409 -0.02083089  0.00392171  0.01625431  0.00370794 -0.0182728\n",
            "  0.00204015 -0.012127    0.00256481 -0.00292494  0.00947578  0.00122294\n",
            "  0.01034001 -0.01126142 -0.00132518  0.01692667  0.00078589 -0.01311254\n",
            " -0.01131897  0.00382836  0.01537616  0.01262376 -0.017413    0.0190237\n",
            "  0.00101306  0.01790175  0.02815571 -0.0141247  -0.01506137  0.01102253\n",
            "  0.02311399  0.00610553]\n",
            "Word: industry, Vector: [ 0.00967416 -0.00244585  0.01950729 -0.01727662 -0.01968031 -0.01994327\n",
            " -0.00870202  0.01715034 -0.01393807 -0.02632301  0.02140511 -0.01462282\n",
            "  0.02543548 -0.00871434  0.0046156   0.01478379  0.00775708 -0.00010052\n",
            " -0.00581015 -0.02961068 -0.00716885  0.00020306  0.02767408 -0.00633646\n",
            " -0.01433016  0.01073973 -0.00363927 -0.00224457  0.00917263  0.00781572\n",
            " -0.00391398 -0.00492189  0.02013396  0.01686667  0.0104624   0.00798466\n",
            "  0.00931374 -0.00188044 -0.00979096  0.00138688 -0.00130847  0.00022159\n",
            " -0.02036555  0.01801243 -0.00406371 -0.01395981 -0.00232561 -0.00377498\n",
            " -0.01055762  0.00034038]\n",
            "Word: problems, Vector: [-0.01402881 -0.0018785  -0.01265847  0.00523306  0.00424505 -0.0045736\n",
            " -0.01114281  0.00175441  0.01007425  0.00098053 -0.01491623 -0.01175268\n",
            "  0.01055334  0.00492055 -0.02138779  0.01234609 -0.01561283 -0.01101565\n",
            " -0.00137891 -0.01603573  0.00612527  0.02181701  0.00196596  0.01959241\n",
            "  0.00256411  0.02100254  0.00955574 -0.01484938 -0.01043835  0.01296105\n",
            "  0.01365921  0.01292935  0.01546929  0.01710767 -0.0214324   0.00765574\n",
            " -0.00687541  0.00804012  0.01423392  0.01002943  0.0157616   0.00433507\n",
            " -0.00783132  0.01367152 -0.00473311  0.00050522  0.02156167 -0.01130106\n",
            "  0.01107738 -0.01709251]\n",
            "Word: uses, Vector: [ 1.8186636e-02  1.6721178e-02  3.1824287e-03  1.0865688e-02\n",
            "  1.5470532e-03 -1.5488562e-02 -2.9744299e-03  1.5677953e-02\n",
            " -1.1705547e-02 -1.1460326e-02  1.1369354e-02  2.8965804e-03\n",
            " -5.5932155e-04 -5.4295575e-03  1.0571741e-02 -1.0006917e-02\n",
            " -5.3783082e-03 -1.0900384e-02 -1.3175484e-02 -2.2157736e-02\n",
            " -9.5845815e-03 -1.5071947e-02  7.5728511e-03 -1.6622735e-02\n",
            " -2.0387152e-02 -1.5915906e-02 -1.4429305e-02  1.5643382e-02\n",
            "  5.3381016e-03  7.0289132e-04 -4.6434482e-03 -1.7514961e-02\n",
            "  1.8312583e-03  1.3750124e-03 -9.1249787e-04  9.5331133e-04\n",
            "  3.2055897e-03 -1.0992551e-05 -1.5260071e-02 -1.1389502e-02\n",
            " -1.6771173e-02 -1.8016642e-03  1.2208320e-03  1.5947644e-02\n",
            " -2.1870108e-04 -4.2099427e-03  2.0800529e-02 -1.7909126e-04\n",
            " -2.9948158e-03  1.6923741e-02]\n",
            "Word: data, Vector: [ 0.01447861 -0.00883928 -0.00090008  0.00300694 -0.00212779 -0.00084006\n",
            "  0.01231364  0.00299015 -0.00945091 -0.00742141  0.01367634  0.00014942\n",
            "  0.00177568  0.01912163 -0.01162819  0.00018795  0.01960762  0.01573624\n",
            " -0.00196051 -0.02375145  0.00146425 -0.00231747  0.02464109  0.00308908\n",
            "  0.00258226  0.00526991 -0.00509562 -0.00781643 -0.00168449 -0.00397644\n",
            "  0.01521548  0.01519131 -0.00038979  0.00629703 -0.01327964  0.00279225\n",
            " -0.01176547 -0.01696319 -0.01099006 -0.01723306  0.01551041 -0.01118522\n",
            "  0.01309697 -0.01337959  0.01102426  0.01974758 -0.01438782 -0.02027478\n",
            " -0.00668157 -0.00557061]\n"
          ]
        }
      ],
      "source": [
        "word_vectors = [model.wv[word] for word in vocabulary]\n",
        "\n",
        "# Print word vectors for each word in the vocabulary\n",
        "for word, vector in zip(vocabulary, word_vectors):\n",
        "    print(f\"Word: {word}, Vector: {vector}\")"
      ]
    },
    {
      "cell_type": "code",
      "execution_count": null,
      "id": "fe91c3a0",
      "metadata": {
        "id": "fe91c3a0"
      },
      "outputs": [],
      "source": [
        "# e) Plot a 2D graph for the word embeddings using PCA"
      ]
    },
    {
      "cell_type": "code",
      "execution_count": null,
      "id": "7c76cd15",
      "metadata": {
        "id": "7c76cd15"
      },
      "outputs": [],
      "source": [
        "import matplotlib.pyplot as plt\n",
        "from sklearn.decomposition import PCA"
      ]
    },
    {
      "cell_type": "code",
      "execution_count": null,
      "id": "bf0201e4",
      "metadata": {
        "id": "bf0201e4"
      },
      "outputs": [],
      "source": [
        "pca = PCA(n_components=2)\n",
        "word_vectors_2D = pca.fit_transform(word_vectors)"
      ]
    },
    {
      "cell_type": "code",
      "execution_count": null,
      "id": "63d3301a",
      "metadata": {
        "id": "63d3301a",
        "outputId": "b300dad5-fccd-4656-e14e-ab1a58822de5"
      },
      "outputs": [
        {
          "data": {
            "image/png": "[encoded data removed]",
            "text/plain": [
              "<Figure size 720x576 with 1 Axes>"
            ]
          },
          "metadata": {
            "needs_background": "light"
          },
          "output_type": "display_data"
        }
      ],
      "source": [
        "# Create a scatter plot for word embeddings\n",
        "x, y = zip(*word_vectors_2D)\n",
        "\n",
        "plt.figure(figsize=(10, 8))\n",
        "plt.scatter(x, y)\n",
        "\n",
        "plt.title('2D Word Embeddings using PCA')\n",
        "plt.xlabel('Principal Component 1')\n",
        "plt.ylabel('Principal Component 2')\n",
        "plt.grid(True)"
      ]
    },
    {
      "cell_type": "code",
      "execution_count": null,
      "id": "1ff6c4aa",
      "metadata": {
        "id": "1ff6c4aa"
      },
      "outputs": [],
      "source": [
        "# f) Find similarity between the word vectors for ‘nlp’ and ‘data’"
      ]
    },
    {
      "cell_type": "code",
      "execution_count": null,
      "id": "15ab1f88",
      "metadata": {
        "id": "15ab1f88",
        "outputId": "f6b50fd7-8472-406d-cfc9-9d5e4b191ea8"
      },
      "outputs": [
        {
          "name": "stdout",
          "output_type": "stream",
          "text": [
            "Similarity between 'nlp' and 'data': 0.140981525182724\n"
          ]
        }
      ],
      "source": [
        "similarity = model.wv.similarity('nlp', 'data')\n",
        "print(f\"Similarity between 'nlp' and 'data': {similarity}\")"
      ]
    },
    {
      "cell_type": "code",
      "execution_count": null,
      "id": "fe7dfc7a",
      "metadata": {
        "id": "fe7dfc7a"
      },
      "outputs": [],
      "source": [
        "# g) Find the most similar word vectors for the word vector ‘machine’"
      ]
    },
    {
      "cell_type": "code",
      "execution_count": null,
      "id": "d211d6a5",
      "metadata": {
        "id": "d211d6a5",
        "outputId": "5177a944-34f8-4407-e9d1-35d16d50cc1f"
      },
      "outputs": [
        {
          "name": "stdout",
          "output_type": "stream",
          "text": [
            "[('saves', 0.5130521655082703), ('of', 0.4277428984642029), ('nlp', 0.3354583978652954), ('in', 0.3304442763328552), ('i', 0.3191339671611786), ('time', 0.30943119525909424), ('industry', 0.28834736347198486), ('solves', 0.23513862490653992), ('data', 0.23137910664081573), ('a', 0.23037660121917725)]\n"
          ]
        }
      ],
      "source": [
        "similar_words = model.wv.most_similar('machine')\n",
        "print(similar_words)"
      ]
    },
    {
      "cell_type": "code",
      "execution_count": null,
      "id": "51eb2a01",
      "metadata": {
        "id": "51eb2a01"
      },
      "outputs": [],
      "source": [
        "# h) Find the odd one out for the word vectors ‘nlp’, ‘industry’, ‘learning’"
      ]
    },
    {
      "cell_type": "code",
      "execution_count": null,
      "id": "32dbaa48",
      "metadata": {
        "id": "32dbaa48",
        "outputId": "cc442f70-348e-411c-df46-a79b666c5d67"
      },
      "outputs": [
        {
          "name": "stdout",
          "output_type": "stream",
          "text": [
            "learning\n"
          ]
        }
      ],
      "source": [
        "words = ['nlp', 'industry', 'learning']\n",
        "odd_one_out = model.wv.doesnt_match(words)\n",
        "print(odd_one_out)"
      ]
    },
    {
      "cell_type": "code",
      "execution_count": null,
      "id": "b4879aac",
      "metadata": {
        "id": "b4879aac"
      },
      "outputs": [],
      "source": [
        "# 2. For the above corpus, build document vectors using Gensim library with:"
      ]
    },
    {
      "cell_type": "code",
      "execution_count": null,
      "id": "5ec33650",
      "metadata": {
        "id": "5ec33650"
      },
      "outputs": [],
      "source": [
        "from gensim.models import Doc2Vec\n",
        "from gensim.models.doc2vec import TaggedDocument"
      ]
    },
    {
      "cell_type": "code",
      "execution_count": null,
      "id": "11902317",
      "metadata": {
        "id": "11902317"
      },
      "outputs": [],
      "source": [
        "# a) 10 features, context window is 3"
      ]
    },
    {
      "cell_type": "code",
      "execution_count": null,
      "id": "6e86aa31",
      "metadata": {
        "id": "6e86aa31",
        "outputId": "31757423-7dc5-40f7-80e0-72f9362bcb95"
      },
      "outputs": [
        {
          "name": "stdout",
          "output_type": "stream",
          "text": [
            "Document Vector for the First Document:\n",
            "[-0.05332936 -0.05729878 -0.10860898  0.08369651  0.03890583 -0.00393554\n",
            " -0.10107889 -0.05401127 -0.10592     0.01654533]\n"
          ]
        }
      ],
      "source": [
        "tagged_data = [TaggedDocument(words=word_tokenize(sentence.lower()), tags=[str(i)]) for i, sentence in enumerate(corpus)]\n",
        "\n",
        "model = Doc2Vec(\n",
        "    vector_size=10,  # Number of features for document vectors\n",
        "    window=3,        # Context window size\n",
        "    min_count=1,     # Minimum word count threshold\n",
        "    epochs=100,      # Number of training epochs\n",
        ")\n",
        "\n",
        "model.build_vocab(tagged_data)\n",
        "model.train(tagged_data, total_examples=len(tagged_data), epochs=model.epochs)\n",
        "document_vector = model.dv['0']\n",
        "print(\"Document Vector for the First Document:\")\n",
        "print(document_vector)"
      ]
    },
    {
      "cell_type": "code",
      "execution_count": null,
      "id": "ea7741ca",
      "metadata": {
        "id": "ea7741ca"
      },
      "outputs": [],
      "source": [
        "# b) Print the vocabulary of the model"
      ]
    },
    {
      "cell_type": "code",
      "execution_count": null,
      "id": "0dc6bfcc",
      "metadata": {
        "id": "0dc6bfcc",
        "outputId": "3ba9eb04-a553-4760-e009-8106f6ae88d8"
      },
      "outputs": [
        {
          "name": "stdout",
          "output_type": "stream",
          "text": [
            "Vocabulary of the Doc2Vec Model:\n",
            "['0', '1', '2', '3', '4']\n"
          ]
        }
      ],
      "source": [
        "vocabulary = model.dv.index_to_key\n",
        "print(\"Vocabulary of the Doc2Vec Model:\")\n",
        "print(vocabulary)\n"
      ]
    },
    {
      "cell_type": "code",
      "execution_count": null,
      "id": "e94762e2",
      "metadata": {
        "id": "e94762e2"
      },
      "outputs": [],
      "source": [
        "# c) Print the document vector for each sentence in the corpus"
      ]
    },
    {
      "cell_type": "code",
      "execution_count": null,
      "id": "f93b85da",
      "metadata": {
        "id": "f93b85da",
        "outputId": "4db3b5c1-47de-43e0-ffd1-18bb7c3353af"
      },
      "outputs": [
        {
          "name": "stdout",
          "output_type": "stream",
          "text": [
            "Document Vector for Sentence 1:\n",
            "[-0.05332936 -0.05729878 -0.10860898  0.08369651  0.03890583 -0.00393554\n",
            " -0.10107889 -0.05401127 -0.10592     0.01654533]\n",
            "Document Vector for Sentence 2:\n",
            "[ 0.02983121  0.06274777 -0.08400786 -0.04606267 -0.01997486 -0.11536487\n",
            "  0.01778608  0.08251866 -0.13410294 -0.04966425]\n",
            "Document Vector for Sentence 3:\n",
            "[-0.03869024  0.04131288 -0.0920127   0.01843012  0.07440419 -0.10655171\n",
            " -0.09237545 -0.11899783  0.02308581 -0.11062206]\n",
            "Document Vector for Sentence 4:\n",
            "[ 0.06189362  0.09167543 -0.12067029 -0.06602337  0.00710281 -0.0187855\n",
            " -0.02157863 -0.10893134 -0.08511589 -0.0034946 ]\n",
            "Document Vector for Sentence 5:\n",
            "[-0.02006214 -0.06884596  0.02865339 -0.0935908   0.03155822 -0.05767892\n",
            "  0.00482925 -0.02489343  0.04219805 -0.08867103]\n"
          ]
        }
      ],
      "source": [
        "for i, tagged_document in enumerate(tagged_data):\n",
        "    document_vector = model.dv[i]\n",
        "    print(f\"Document Vector for Sentence {i + 1}:\")\n",
        "    print(document_vector)\n"
      ]
    },
    {
      "cell_type": "code",
      "execution_count": null,
      "id": "a1c715d2",
      "metadata": {
        "id": "a1c715d2"
      },
      "outputs": [],
      "source": [
        "# d) Find similarity between 3rd and 5th sentence"
      ]
    },
    {
      "cell_type": "code",
      "execution_count": null,
      "id": "3043e730",
      "metadata": {
        "id": "3043e730",
        "outputId": "8d691ca9-4da0-4a67-9741-857a6d8c8d71"
      },
      "outputs": [
        {
          "name": "stdout",
          "output_type": "stream",
          "text": [
            "Similarity between the 3rd and 5th sentences: 0.35360071063041687\n"
          ]
        }
      ],
      "source": [
        "from scipy.spatial.distance import cosine\n",
        "\n",
        "vector_3rd_sentence = model.dv[2]\n",
        "vector_5th_sentence = model.dv[4]\n",
        "similarity = 1 - cosine(vector_3rd_sentence, vector_5th_sentence)\n",
        "print(f\"Similarity between the 3rd and 5th sentences: {similarity}\")\n"
      ]
    },
    {
      "cell_type": "code",
      "execution_count": null,
      "id": "ca8c0a04",
      "metadata": {
        "id": "ca8c0a04"
      },
      "outputs": [],
      "source": [
        "# e) Find the most similar document vector for the 5th sentence"
      ]
    },
    {
      "cell_type": "code",
      "execution_count": null,
      "id": "90a0202a",
      "metadata": {
        "id": "90a0202a",
        "outputId": "6582830b-9884-421f-a592-a1f76b9c68d4"
      },
      "outputs": [
        {
          "name": "stdout",
          "output_type": "stream",
          "text": [
            "Most similar document to the 5th sentence: [('2', 0.35360071063041687)]\n"
          ]
        }
      ],
      "source": [
        "similar_doc = model.dv.most_similar('4', topn=1)\n",
        "print(f\"Most similar document to the 5th sentence: {similar_doc}\")\n"
      ]
    },
    {
      "cell_type": "code",
      "execution_count": null,
      "id": "0888a450",
      "metadata": {
        "id": "0888a450"
      },
      "outputs": [],
      "source": [
        "# 3. For the above corpus, build character n-gram vectors using Gensim library with:"
      ]
    },
    {
      "cell_type": "code",
      "execution_count": null,
      "id": "59d5ac15",
      "metadata": {
        "id": "59d5ac15"
      },
      "outputs": [],
      "source": [
        "from gensim.models import FastText\n",
        "from nltk.util import ngrams"
      ]
    },
    {
      "cell_type": "code",
      "execution_count": null,
      "id": "2b00f986",
      "metadata": {
        "id": "2b00f986"
      },
      "outputs": [],
      "source": [
        "# a) 20 features, context window is 4, min character n-gram 3 and max character n-gram 6"
      ]
    },
    {
      "cell_type": "code",
      "execution_count": null,
      "id": "1bb3118d",
      "metadata": {
        "id": "1bb3118d",
        "outputId": "fd256272-53e7-4af9-b001-2edde689aff4"
      },
      "outputs": [
        {
          "name": "stdout",
          "output_type": "stream",
          "text": [
            "[-0.01309639  0.01053239  0.01166811 -0.00180606  0.02148186 -0.01545579\n",
            "  0.00206937  0.02023758  0.00782872 -0.00781594  0.00324784 -0.02400987\n",
            "  0.01399452 -0.01050598  0.01043481 -0.00056397 -0.01784237  0.00624329\n",
            " -0.01030751 -0.01540622]\n"
          ]
        }
      ],
      "source": [
        "tokenized_corpus = [' '.join([''.join(sentence[i:i+n]) for i in range(len(sentence) - 2) for n in range(3, 7)]) for sentence in corpus]\n",
        "\n",
        "model = FastText(\n",
        "    sentences=tokenized_corpus,\n",
        "    vector_size=20,\n",
        "    window=4,\n",
        "    min_n=3,\n",
        "    max_n=6\n",
        ")\n",
        "\n",
        "\n",
        "model.build_vocab(tokenized_corpus)\n",
        "\n",
        "model.train(tokenized_corpus, total_examples=len(tokenized_corpus), epochs=100)\n",
        "\n",
        "vector = model.wv['nlp']\n",
        "print(vector)"
      ]
    },
    {
      "cell_type": "code",
      "execution_count": null,
      "id": "60dc05f3",
      "metadata": {
        "id": "60dc05f3"
      },
      "outputs": [],
      "source": [
        "# b) Print the vocabulary of the model"
      ]
    },
    {
      "cell_type": "code",
      "execution_count": null,
      "id": "3c362535",
      "metadata": {
        "id": "3c362535",
        "outputId": "d18aa638-9af8-46c0-9393-4bc86193629e"
      },
      "outputs": [
        {
          "name": "stdout",
          "output_type": "stream",
          "text": [
            "Vocabulary of the FastText Model:\n",
            "[' ', 'e', 'n', 'l', 's', 'a', 'i', 't', 'o', 'r', 'p', 'u', 'm', 'f', 'd', 'v', 'h', 'c', 'b', 'y', '2', 'w', 'g', 'I']\n"
          ]
        }
      ],
      "source": [
        "vocabulary = model.wv.index_to_key\n",
        "print(\"Vocabulary of the FastText Model:\")\n",
        "print(vocabulary)"
      ]
    },
    {
      "cell_type": "code",
      "execution_count": null,
      "id": "321d6806",
      "metadata": {
        "id": "321d6806"
      },
      "outputs": [],
      "source": [
        "# c) Find similarity between the Out of vocabulary vectors ‘mac’ and ‘mon’"
      ]
    },
    {
      "cell_type": "code",
      "execution_count": null,
      "id": "8b8a02a6",
      "metadata": {
        "id": "8b8a02a6",
        "outputId": "f552f866-f08c-4e17-bc39-f59612e33826"
      },
      "outputs": [
        {
          "name": "stdout",
          "output_type": "stream",
          "text": [
            "Similarity between 'mac' and 'mon': 0.5440\n"
          ]
        }
      ],
      "source": [
        "from scipy.spatial.distance import cosine\n",
        "import numpy as np\n",
        "\n",
        "word1 = 'mac'\n",
        "word2 = 'mon'\n",
        "\n",
        "vector_word1 = np.mean([model.wv[ngram] for ngram in word1], axis=0)\n",
        "vector_word2 = np.mean([model.wv[ngram] for ngram in word2], axis=0)\n",
        "\n",
        "similarity = 1 - cosine(vector_word1, vector_word2)\n",
        "print(f\"Similarity between '{word1}' and '{word2}': {similarity:.4f}\")\n"
      ]
    },
    {
      "cell_type": "code",
      "execution_count": null,
      "id": "45e7cc68",
      "metadata": {
        "id": "45e7cc68"
      },
      "outputs": [],
      "source": [
        "# d) Find the most similar vectors for the out of vocabulary vector ‘macmon’"
      ]
    },
    {
      "cell_type": "code",
      "execution_count": null,
      "id": "c7354768",
      "metadata": {
        "id": "c7354768",
        "outputId": "534d77e2-b08a-4964-de53-4a5fbef320fb"
      },
      "outputs": [
        {
          "name": "stdout",
          "output_type": "stream",
          "text": [
            "Most similar vectors to 'macmon':\n",
            "Word: m, Similarity Score: 0.8831571340560913\n",
            "Word: c, Similarity Score: 0.6965962052345276\n",
            "Word: a, Similarity Score: 0.658580482006073\n",
            "Word: 2, Similarity Score: 0.5176978707313538\n",
            "Word: e, Similarity Score: 0.49246418476104736\n"
          ]
        }
      ],
      "source": [
        "from scipy.spatial.distance import cosine\n",
        "import numpy as np\n",
        "\n",
        "oov_word = 'macmon'\n",
        "oov_vector = np.mean([model.wv[ngram] for ngram in oov_word], axis=0)\n",
        "similar_vectors = model.wv.most_similar(positive=[oov_vector], topn=5)\n",
        "\n",
        "print(f\"Most similar vectors to '{oov_word}':\")\n",
        "for word, score in similar_vectors:\n",
        "    print(f\"Word: {word}, Similarity Score: {score}\")\n"
      ]
    },
    {
      "cell_type": "code",
      "execution_count": null,
      "id": "4063bb4a",
      "metadata": {
        "id": "4063bb4a"
      },
      "outputs": [],
      "source": []
    }
  ],
  "metadata": {
    "kernelspec": {
      "display_name": "Python 3 (ipykernel)",
      "language": "python",
      "name": "python3"
    },
    "language_info": {
      "codemirror_mode": {
        "name": "ipython",
        "version": 3
      },
      "file_extension": ".py",
      "mimetype": "text/x-python",
      "name": "python",
      "nbconvert_exporter": "python",
      "pygments_lexer": "ipython3",
      "version": "3.9.12"
    },
    "colab": {
      "provenance": []
    }
  },
  "nbformat": 4,
  "nbformat_minor": 5
}