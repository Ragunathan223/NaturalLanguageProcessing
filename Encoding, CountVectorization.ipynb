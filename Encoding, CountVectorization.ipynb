{
 "cells": [
  {
   "cell_type": "markdown",
   "id": "7dd23949",
   "metadata": {},
   "source": [
    "# 1. For the text \"I am learning NLP\", build One Hot Encoded feature vectors using:\n",
    "a) Pandas\n",
    "b) Scikit"
   ]
  },
  {
   "cell_type": "code",
   "execution_count": 30,
   "id": "0c03773d",
   "metadata": {},
   "outputs": [],
   "source": [
    "# Applying one hot encoding using pandas\n",
    "\n",
    "import pandas as pd\n",
    "import numpy as np\n",
    "txt = \"I am learning NLP\""
   ]
  },
  {
   "cell_type": "code",
   "execution_count": 31,
   "id": "72700640",
   "metadata": {},
   "outputs": [
    {
     "data": {
      "text/plain": [
       "['I', 'am', 'learning', 'NLP']"
      ]
     },
     "execution_count": 31,
     "metadata": {},
     "output_type": "execute_result"
    }
   ],
   "source": [
    "up_txt = txt.split()\n",
    "up_txt"
   ]
  },
  {
   "cell_type": "code",
   "execution_count": 32,
   "id": "2f6afb9c",
   "metadata": {},
   "outputs": [
    {
     "data": {
      "text/html": [
       "<div>\n",
       "<style scoped>\n",
       "    .dataframe tbody tr th:only-of-type {\n",
       "        vertical-align: middle;\n",
       "    }\n",
       "\n",
       "    .dataframe tbody tr th {\n",
       "        vertical-align: top;\n",
       "    }\n",
       "\n",
       "    .dataframe thead th {\n",
       "        text-align: right;\n",
       "    }\n",
       "</style>\n",
       "<table border=\"1\" class=\"dataframe\">\n",
       "  <thead>\n",
       "    <tr style=\"text-align: right;\">\n",
       "      <th></th>\n",
       "      <th>I</th>\n",
       "      <th>NLP</th>\n",
       "      <th>am</th>\n",
       "      <th>learning</th>\n",
       "    </tr>\n",
       "  </thead>\n",
       "  <tbody>\n",
       "    <tr>\n",
       "      <th>0</th>\n",
       "      <td>1</td>\n",
       "      <td>0</td>\n",
       "      <td>0</td>\n",
       "      <td>0</td>\n",
       "    </tr>\n",
       "    <tr>\n",
       "      <th>1</th>\n",
       "      <td>0</td>\n",
       "      <td>0</td>\n",
       "      <td>1</td>\n",
       "      <td>0</td>\n",
       "    </tr>\n",
       "    <tr>\n",
       "      <th>2</th>\n",
       "      <td>0</td>\n",
       "      <td>0</td>\n",
       "      <td>0</td>\n",
       "      <td>1</td>\n",
       "    </tr>\n",
       "    <tr>\n",
       "      <th>3</th>\n",
       "      <td>0</td>\n",
       "      <td>1</td>\n",
       "      <td>0</td>\n",
       "      <td>0</td>\n",
       "    </tr>\n",
       "  </tbody>\n",
       "</table>\n",
       "</div>"
      ],
      "text/plain": [
       "   I  NLP  am  learning\n",
       "0  1    0   0         0\n",
       "1  0    0   1         0\n",
       "2  0    0   0         1\n",
       "3  0    1   0         0"
      ]
     },
     "execution_count": 32,
     "metadata": {},
     "output_type": "execute_result"
    }
   ],
   "source": [
    "one_hot_ = pd.get_dummies(upd_txt, columns = upd_txt)\n",
    "one_hot_"
   ]
  },
  {
   "cell_type": "code",
   "execution_count": 33,
   "id": "78fa66bf",
   "metadata": {},
   "outputs": [],
   "source": [
    "# Applying one hot encoding using sklearn library\n",
    "# Importing the libraries\n",
    "\n",
    "from sklearn.preprocessing import OneHotEncoder"
   ]
  },
  {
   "cell_type": "code",
   "execution_count": 34,
   "id": "92ffb728",
   "metadata": {},
   "outputs": [],
   "source": [
    "# Assinging an object to the onehotencoder\n",
    "enc = OneHotEncoder()"
   ]
  },
  {
   "cell_type": "code",
   "execution_count": 35,
   "id": "4bbed3a1",
   "metadata": {},
   "outputs": [],
   "source": [
    "enc_mat = enc.fit_transform([[i] for i in upd_txt]).toarray()"
   ]
  },
  {
   "cell_type": "code",
   "execution_count": 36,
   "id": "0305b307",
   "metadata": {},
   "outputs": [
    {
     "data": {
      "text/html": [
       "<div>\n",
       "<style scoped>\n",
       "    .dataframe tbody tr th:only-of-type {\n",
       "        vertical-align: middle;\n",
       "    }\n",
       "\n",
       "    .dataframe tbody tr th {\n",
       "        vertical-align: top;\n",
       "    }\n",
       "\n",
       "    .dataframe thead th {\n",
       "        text-align: right;\n",
       "    }\n",
       "</style>\n",
       "<table border=\"1\" class=\"dataframe\">\n",
       "  <thead>\n",
       "    <tr style=\"text-align: right;\">\n",
       "      <th></th>\n",
       "      <th>I</th>\n",
       "      <th>am</th>\n",
       "      <th>learning</th>\n",
       "      <th>NLP</th>\n",
       "    </tr>\n",
       "  </thead>\n",
       "  <tbody>\n",
       "    <tr>\n",
       "      <th>0</th>\n",
       "      <td>1.0</td>\n",
       "      <td>0.0</td>\n",
       "      <td>0.0</td>\n",
       "      <td>0.0</td>\n",
       "    </tr>\n",
       "    <tr>\n",
       "      <th>1</th>\n",
       "      <td>0.0</td>\n",
       "      <td>0.0</td>\n",
       "      <td>1.0</td>\n",
       "      <td>0.0</td>\n",
       "    </tr>\n",
       "    <tr>\n",
       "      <th>2</th>\n",
       "      <td>0.0</td>\n",
       "      <td>0.0</td>\n",
       "      <td>0.0</td>\n",
       "      <td>1.0</td>\n",
       "    </tr>\n",
       "    <tr>\n",
       "      <th>3</th>\n",
       "      <td>0.0</td>\n",
       "      <td>1.0</td>\n",
       "      <td>0.0</td>\n",
       "      <td>0.0</td>\n",
       "    </tr>\n",
       "  </tbody>\n",
       "</table>\n",
       "</div>"
      ],
      "text/plain": [
       "     I   am  learning  NLP\n",
       "0  1.0  0.0       0.0  0.0\n",
       "1  0.0  0.0       1.0  0.0\n",
       "2  0.0  0.0       0.0  1.0\n",
       "3  0.0  1.0       0.0  0.0"
      ]
     },
     "execution_count": 36,
     "metadata": {},
     "output_type": "execute_result"
    }
   ],
   "source": [
    "df = pd.DataFrame(enc_mat, columns = up_txt)\n",
    "df"
   ]
  },
  {
   "cell_type": "markdown",
   "id": "79718fa8",
   "metadata": {},
   "source": [
    "# 2. Take a corpus with 4 sentences. Create Bag of Words feature vectors using Scikit:\n",
    "a) Print feature names of the corpus.\n",
    "b) Print the feature vectors matrix using DataFrame."
   ]
  },
  {
   "cell_type": "code",
   "execution_count": 37,
   "id": "bae8e8da",
   "metadata": {},
   "outputs": [],
   "source": [
    "corpus = ['I like NLP','I am exploring NLP','I want to learn advanced NLP','I am a beginner in NLP']"
   ]
  },
  {
   "cell_type": "code",
   "execution_count": 38,
   "id": "4cc97900",
   "metadata": {},
   "outputs": [],
   "source": [
    "# Creating the bag of words feature using Sklearn\n",
    "from sklearn.feature_extraction.text import CountVectorizer"
   ]
  },
  {
   "cell_type": "code",
   "execution_count": 39,
   "id": "d1ba32eb",
   "metadata": {},
   "outputs": [],
   "source": [
    "v = CountVectorizer()"
   ]
  },
  {
   "cell_type": "code",
   "execution_count": 40,
   "id": "15051f32",
   "metadata": {},
   "outputs": [
    {
     "data": {
      "text/plain": [
       "array(['advanced', 'am', 'beginner', 'exploring', 'in', 'learn', 'like',\n",
       "       'nlp', 'to', 'want'], dtype=object)"
      ]
     },
     "execution_count": 40,
     "metadata": {},
     "output_type": "execute_result"
    }
   ],
   "source": [
    "# Fitting the corpus to the count vectorizer\n",
    "\n",
    "doc_mat = v.fit_transform(corpus)\n",
    "\n",
    "# Printing the feature names from the corpus\n",
    "\n",
    "features = v.get_feature_names_out()\n",
    "features"
   ]
  },
  {
   "cell_type": "code",
   "execution_count": 41,
   "id": "34004a41",
   "metadata": {},
   "outputs": [
    {
     "data": {
      "text/html": [
       "<div>\n",
       "<style scoped>\n",
       "    .dataframe tbody tr th:only-of-type {\n",
       "        vertical-align: middle;\n",
       "    }\n",
       "\n",
       "    .dataframe tbody tr th {\n",
       "        vertical-align: top;\n",
       "    }\n",
       "\n",
       "    .dataframe thead th {\n",
       "        text-align: right;\n",
       "    }\n",
       "</style>\n",
       "<table border=\"1\" class=\"dataframe\">\n",
       "  <thead>\n",
       "    <tr style=\"text-align: right;\">\n",
       "      <th></th>\n",
       "      <th>advanced</th>\n",
       "      <th>am</th>\n",
       "      <th>beginner</th>\n",
       "      <th>exploring</th>\n",
       "      <th>in</th>\n",
       "      <th>learn</th>\n",
       "      <th>like</th>\n",
       "      <th>nlp</th>\n",
       "      <th>to</th>\n",
       "      <th>want</th>\n",
       "    </tr>\n",
       "  </thead>\n",
       "  <tbody>\n",
       "    <tr>\n",
       "      <th>0</th>\n",
       "      <td>0</td>\n",
       "      <td>0</td>\n",
       "      <td>0</td>\n",
       "      <td>0</td>\n",
       "      <td>0</td>\n",
       "      <td>0</td>\n",
       "      <td>1</td>\n",
       "      <td>1</td>\n",
       "      <td>0</td>\n",
       "      <td>0</td>\n",
       "    </tr>\n",
       "    <tr>\n",
       "      <th>1</th>\n",
       "      <td>0</td>\n",
       "      <td>1</td>\n",
       "      <td>0</td>\n",
       "      <td>1</td>\n",
       "      <td>0</td>\n",
       "      <td>0</td>\n",
       "      <td>0</td>\n",
       "      <td>1</td>\n",
       "      <td>0</td>\n",
       "      <td>0</td>\n",
       "    </tr>\n",
       "    <tr>\n",
       "      <th>2</th>\n",
       "      <td>1</td>\n",
       "      <td>0</td>\n",
       "      <td>0</td>\n",
       "      <td>0</td>\n",
       "      <td>0</td>\n",
       "      <td>1</td>\n",
       "      <td>0</td>\n",
       "      <td>1</td>\n",
       "      <td>1</td>\n",
       "      <td>1</td>\n",
       "    </tr>\n",
       "    <tr>\n",
       "      <th>3</th>\n",
       "      <td>0</td>\n",
       "      <td>1</td>\n",
       "      <td>1</td>\n",
       "      <td>0</td>\n",
       "      <td>1</td>\n",
       "      <td>0</td>\n",
       "      <td>0</td>\n",
       "      <td>1</td>\n",
       "      <td>0</td>\n",
       "      <td>0</td>\n",
       "    </tr>\n",
       "  </tbody>\n",
       "</table>\n",
       "</div>"
      ],
      "text/plain": [
       "   advanced  am  beginner  exploring  in  learn  like  nlp  to  want\n",
       "0         0   0         0          0   0      0     1    1   0     0\n",
       "1         0   1         0          1   0      0     0    1   0     0\n",
       "2         1   0         0          0   0      1     0    1   1     1\n",
       "3         0   1         1          0   1      0     0    1   0     0"
      ]
     },
     "execution_count": 41,
     "metadata": {},
     "output_type": "execute_result"
    }
   ],
   "source": [
    "df = pd.DataFrame(doc_mat.toarray(), columns = features)\n",
    "df"
   ]
  },
  {
   "cell_type": "markdown",
   "id": "69148b9a",
   "metadata": {},
   "source": [
    "# 3. For the text “I learn NLP because it is awesome”, print uni-grams, bi-grams and tri-grams using:\n",
    "a) Textblob\n",
    "b) Ntlk"
   ]
  },
  {
   "cell_type": "code",
   "execution_count": 42,
   "id": "23df544c",
   "metadata": {},
   "outputs": [],
   "source": [
    "# Importing textblob\n",
    "\n",
    "from textblob import TextBlob\n",
    "txt = \"I learn NLP because it is awesome\""
   ]
  },
  {
   "cell_type": "code",
   "execution_count": 44,
   "id": "ce383b35",
   "metadata": {},
   "outputs": [],
   "source": [
    "# Assigning an object to textblob\n",
    "\n",
    "ngram_obj = TextBlob(txt)"
   ]
  },
  {
   "cell_type": "code",
   "execution_count": 45,
   "id": "70740701",
   "metadata": {},
   "outputs": [],
   "source": [
    "# Perfroming uni-gram\n",
    "uni_gram = ngram_obj.ngrams(n=1)\n",
    "\n",
    "# Peforming bi-gram\n",
    "bi_gram = ngram_obj.ngrams(n=2)\n",
    "\n",
    "# Performing tri-gram\n",
    "tri_gram = ngram_obj.ngrams(n=3)"
   ]
  },
  {
   "cell_type": "code",
   "execution_count": 46,
   "id": "294bd156",
   "metadata": {},
   "outputs": [
    {
     "data": {
      "text/plain": [
       "[WordList(['I']),\n",
       " WordList(['learn']),\n",
       " WordList(['NLP']),\n",
       " WordList(['because']),\n",
       " WordList(['it']),\n",
       " WordList(['is']),\n",
       " WordList(['awesome'])]"
      ]
     },
     "execution_count": 46,
     "metadata": {},
     "output_type": "execute_result"
    }
   ],
   "source": [
    "uni_gram"
   ]
  },
  {
   "cell_type": "code",
   "execution_count": 47,
   "id": "04d2b24b",
   "metadata": {},
   "outputs": [
    {
     "data": {
      "text/plain": [
       "[WordList(['I', 'learn']),\n",
       " WordList(['learn', 'NLP']),\n",
       " WordList(['NLP', 'because']),\n",
       " WordList(['because', 'it']),\n",
       " WordList(['it', 'is']),\n",
       " WordList(['is', 'awesome'])]"
      ]
     },
     "execution_count": 47,
     "metadata": {},
     "output_type": "execute_result"
    }
   ],
   "source": [
    "bi_gram"
   ]
  },
  {
   "cell_type": "code",
   "execution_count": 48,
   "id": "f6e61833",
   "metadata": {},
   "outputs": [
    {
     "data": {
      "text/plain": [
       "[WordList(['I', 'learn', 'NLP']),\n",
       " WordList(['learn', 'NLP', 'because']),\n",
       " WordList(['NLP', 'because', 'it']),\n",
       " WordList(['because', 'it', 'is']),\n",
       " WordList(['it', 'is', 'awesome'])]"
      ]
     },
     "execution_count": 48,
     "metadata": {},
     "output_type": "execute_result"
    }
   ],
   "source": [
    "tri_gram"
   ]
  },
  {
   "cell_type": "code",
   "execution_count": 49,
   "id": "e9987098",
   "metadata": {},
   "outputs": [
    {
     "name": "stdout",
     "output_type": "stream",
     "text": [
      "('I',)\n",
      "('learn',)\n",
      "('NLP',)\n",
      "('because',)\n",
      "('it',)\n",
      "('is',)\n",
      "('awesome',)\n"
     ]
    }
   ],
   "source": [
    "# Performing the same set of operations using NLTK\n",
    "\n",
    "from nltk import ngrams\n",
    "sentence = 'I learn NLP because it is awesome'\n",
    "n = 1\n",
    "unigrams = ngrams(sentence.split(), n)\n",
    "for grams in unigrams:\n",
    "    print(grams)"
   ]
  },
  {
   "cell_type": "code",
   "execution_count": 50,
   "id": "3ccf83ee",
   "metadata": {},
   "outputs": [],
   "source": [
    "# Performing the same set of operations using NLTK\n",
    "\n",
    "from nltk import ngrams\n",
    "sentence = 'I learn NLP because it is awesome'\n",
    "n = 2\n",
    "bigrams = ngrams(sentence.split(), n)\n",
    "for grams in unigrams:\n",
    "    print(grams)"
   ]
  },
  {
   "cell_type": "code",
   "execution_count": 23,
   "id": "464d4ae9",
   "metadata": {},
   "outputs": [],
   "source": [
    "# Performing the same set of operations using NLTK\n",
    "\n",
    "from nltk import ngrams\n",
    "sentence = 'I learn NLP because it is awesome'\n",
    "n = 3\n",
    "trigrams = ngrams(sentence.split(), n)\n",
    "for grams in unigrams:\n",
    "    print(grams)"
   ]
  },
  {
   "cell_type": "markdown",
   "id": "8d2030dc",
   "metadata": {},
   "source": [
    "# 4. For the corpus ['I like NLP', 'I am exploring NLP', 'I am a beginner in NLP', 'I want to learn NLP', 'Ilike advanced NLP'], create TFIDF feature vectors using Scikit:\n",
    "a) Print vocabulary of the corpus.\n",
    "b) Print the inverse document frequencies.\n",
    "c) Print the feature vectors matrix using DataFrame.\n",
    "d) Print cosine similarity of the 2nd sentence with all other sentences."
   ]
  },
  {
   "cell_type": "code",
   "execution_count": 54,
   "id": "d5c94945",
   "metadata": {},
   "outputs": [
    {
     "name": "stdout",
     "output_type": "stream",
     "text": [
      "{'like': 6, 'nlp': 7, 'am': 1, 'exploring': 3, 'want': 9, 'to': 8, 'learn': 5, 'advanced': 0, 'beginner': 2, 'in': 4}\n",
      "\n",
      "\n",
      "['advanced' 'am' 'beginner' 'exploring' 'in' 'learn' 'like' 'nlp' 'to'\n",
      " 'want']\n"
     ]
    }
   ],
   "source": [
    "from sklearn.feature_extraction.text import TfidfVectorizer\n",
    "corpus = ['I like NLP', 'I am exploring NLP', 'I am a beginner in NLP', 'I want to learn NLP','like advanced NLP']\n",
    "\n",
    "# Print the vocabulary of the corpus\n",
    "          \n",
    "vectorizer = TfidfVectorizer()\n",
    "X = vectorizer.fit_transform(corpus)\n",
    "print(v.vocabulary_)\n",
    "\n",
    "print(\"\\n\")\n",
    "print(v.get_feature_names_out())"
   ]
  },
  {
   "cell_type": "code",
   "execution_count": 55,
   "id": "10acf1d5",
   "metadata": {},
   "outputs": [
    {
     "data": {
      "text/plain": [
       "array([2.09861229, 1.69314718, 2.09861229, 2.09861229, 2.09861229,\n",
       "       2.09861229, 1.69314718, 1.        , 2.09861229, 2.09861229])"
      ]
     },
     "execution_count": 55,
     "metadata": {},
     "output_type": "execute_result"
    }
   ],
   "source": [
    "# Print the inverse document frequencies\n",
    "\n",
    "vectorizer.idf_"
   ]
  },
  {
   "cell_type": "code",
   "execution_count": 58,
   "id": "5596054e",
   "metadata": {},
   "outputs": [
    {
     "data": {
      "text/plain": [
       "array([[0.17682765, 1.        , 0.37765328, 0.09223325, 0.12090552]])"
      ]
     },
     "execution_count": 58,
     "metadata": {},
     "output_type": "execute_result"
    }
   ],
   "source": [
    "# Print the cosine similarity of the 2nd sentence with all other sentence\n",
    "\n",
    "from sklearn.metrics.pairwise import cosine_similarity\n",
    "cosine_sim = cosine_similarity(X[1],X)\n",
    "cosine_sim"
   ]
  },
  {
   "cell_type": "markdown",
   "id": "46511e88",
   "metadata": {},
   "source": [
    "# 5. For the corpus \n",
    "\"The quick brown fox jumps over the lazy dog\",\"The quick brown fox jumps over\n",
    "the quick dog\",\"The quick brown fox jumps over the quick brown dog\",\"The quick brown fox jumps\n",
    "over the quick brown fox\"] build the co-occurrence matrix and print it using DataFrame."
   ]
  },
  {
   "cell_type": "code",
   "execution_count": 61,
   "id": "7489d6a2",
   "metadata": {},
   "outputs": [],
   "source": [
    "from sklearn.feature_extraction.text import CountVectorizer"
   ]
  },
  {
   "cell_type": "code",
   "execution_count": 60,
   "id": "73f46893",
   "metadata": {},
   "outputs": [
    {
     "data": {
      "text/html": [
       "<div>\n",
       "<style scoped>\n",
       "    .dataframe tbody tr th:only-of-type {\n",
       "        vertical-align: middle;\n",
       "    }\n",
       "\n",
       "    .dataframe tbody tr th {\n",
       "        vertical-align: top;\n",
       "    }\n",
       "\n",
       "    .dataframe thead th {\n",
       "        text-align: right;\n",
       "    }\n",
       "</style>\n",
       "<table border=\"1\" class=\"dataframe\">\n",
       "  <thead>\n",
       "    <tr style=\"text-align: right;\">\n",
       "      <th></th>\n",
       "      <th>brown</th>\n",
       "      <th>dog</th>\n",
       "      <th>fox</th>\n",
       "      <th>jumps</th>\n",
       "      <th>lazy</th>\n",
       "      <th>over</th>\n",
       "      <th>quick</th>\n",
       "      <th>the</th>\n",
       "    </tr>\n",
       "  </thead>\n",
       "  <tbody>\n",
       "    <tr>\n",
       "      <th>0</th>\n",
       "      <td>10</td>\n",
       "      <td>4</td>\n",
       "      <td>8</td>\n",
       "      <td>6</td>\n",
       "      <td>1</td>\n",
       "      <td>6</td>\n",
       "      <td>11</td>\n",
       "      <td>12</td>\n",
       "    </tr>\n",
       "    <tr>\n",
       "      <th>1</th>\n",
       "      <td>4</td>\n",
       "      <td>3</td>\n",
       "      <td>3</td>\n",
       "      <td>3</td>\n",
       "      <td>1</td>\n",
       "      <td>3</td>\n",
       "      <td>5</td>\n",
       "      <td>6</td>\n",
       "    </tr>\n",
       "    <tr>\n",
       "      <th>2</th>\n",
       "      <td>8</td>\n",
       "      <td>3</td>\n",
       "      <td>7</td>\n",
       "      <td>5</td>\n",
       "      <td>1</td>\n",
       "      <td>5</td>\n",
       "      <td>9</td>\n",
       "      <td>10</td>\n",
       "    </tr>\n",
       "    <tr>\n",
       "      <th>3</th>\n",
       "      <td>6</td>\n",
       "      <td>3</td>\n",
       "      <td>5</td>\n",
       "      <td>4</td>\n",
       "      <td>1</td>\n",
       "      <td>4</td>\n",
       "      <td>7</td>\n",
       "      <td>8</td>\n",
       "    </tr>\n",
       "    <tr>\n",
       "      <th>4</th>\n",
       "      <td>1</td>\n",
       "      <td>1</td>\n",
       "      <td>1</td>\n",
       "      <td>1</td>\n",
       "      <td>1</td>\n",
       "      <td>1</td>\n",
       "      <td>1</td>\n",
       "      <td>2</td>\n",
       "    </tr>\n",
       "    <tr>\n",
       "      <th>5</th>\n",
       "      <td>6</td>\n",
       "      <td>3</td>\n",
       "      <td>5</td>\n",
       "      <td>4</td>\n",
       "      <td>1</td>\n",
       "      <td>4</td>\n",
       "      <td>7</td>\n",
       "      <td>8</td>\n",
       "    </tr>\n",
       "    <tr>\n",
       "      <th>6</th>\n",
       "      <td>11</td>\n",
       "      <td>5</td>\n",
       "      <td>9</td>\n",
       "      <td>7</td>\n",
       "      <td>1</td>\n",
       "      <td>7</td>\n",
       "      <td>13</td>\n",
       "      <td>14</td>\n",
       "    </tr>\n",
       "    <tr>\n",
       "      <th>7</th>\n",
       "      <td>12</td>\n",
       "      <td>6</td>\n",
       "      <td>10</td>\n",
       "      <td>8</td>\n",
       "      <td>2</td>\n",
       "      <td>8</td>\n",
       "      <td>14</td>\n",
       "      <td>16</td>\n",
       "    </tr>\n",
       "  </tbody>\n",
       "</table>\n",
       "</div>"
      ],
      "text/plain": [
       "   brown  dog  fox  jumps  lazy  over  quick  the\n",
       "0     10    4    8      6     1     6     11   12\n",
       "1      4    3    3      3     1     3      5    6\n",
       "2      8    3    7      5     1     5      9   10\n",
       "3      6    3    5      4     1     4      7    8\n",
       "4      1    1    1      1     1     1      1    2\n",
       "5      6    3    5      4     1     4      7    8\n",
       "6     11    5    9      7     1     7     13   14\n",
       "7     12    6   10      8     2     8     14   16"
      ]
     },
     "execution_count": 60,
     "metadata": {},
     "output_type": "execute_result"
    }
   ],
   "source": [
    "corpus = [\"The quick brown fox jumps over the lazy dog\",\n",
    "\"The quick brown fox jumps over the quick dog\",\n",
    "\"The quick brown fox jumps over the quick brown dog\",\n",
    "\"The quick brown fox jumps over the quick brown fox\"]\n",
    "v = CountVectorizer()\n",
    "X = v.fit_transform(corpus)\n",
    "co_occ_matrix = (X.T * X).toarray()\n",
    "df = pd.DataFrame(co_occ_matrix, columns = v.get_feature_names_out())\n",
    "df"
   ]
  },
  {
   "cell_type": "code",
   "execution_count": null,
   "id": "c7ad4fa8",
   "metadata": {},
   "outputs": [],
   "source": []
  }
 ],
 "metadata": {
  "kernelspec": {
   "display_name": "Python 3 (ipykernel)",
   "language": "python",
   "name": "python3"
  },
  "language_info": {
   "codemirror_mode": {
    "name": "ipython",
    "version": 3
   },
   "file_extension": ".py",
   "mimetype": "text/x-python",
   "name": "python",
   "nbconvert_exporter": "python",
   "pygments_lexer": "ipython3",
   "version": "3.9.12"
  }
 },
 "nbformat": 4,
 "nbformat_minor": 5
}
